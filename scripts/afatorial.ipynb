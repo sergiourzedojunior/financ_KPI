{
 "cells": [
  {
   "cell_type": "code",
   "execution_count": 1,
   "metadata": {},
   "outputs": [],
   "source": [
    "import warnings\n",
    "warnings.simplefilter(action='ignore', category=FutureWarning)"
   ]
  },
  {
   "cell_type": "code",
   "execution_count": 2,
   "metadata": {},
   "outputs": [
    {
     "name": "stdout",
     "output_type": "stream",
     "text": [
      "  SEGURADORAS   ICOM   ICOA      ICAP      IEND      IRPG      IIMR      ISIN  \\\n",
      "0        S001  0.885  0.843  0.306386  2.025536  0.194051  0.337447  0.506526   \n",
      "1        S002  1.073  0.960  0.300834  1.101956  0.190632  0.333064  0.639386   \n",
      "2        S003  1.125  0.990  0.254535  1.037175  0.171744  0.223465  0.668026   \n",
      "3        S004  0.948  0.845  0.521968  0.896237  0.304580  0.221494  0.634791   \n",
      "4        S005  1.352  1.373  0.562166  0.765987 -0.587199  1.101719  0.642313   \n",
      "\n",
      "       ICOL      IDAD      ILPG      IRPL      PRPL      IALI      ILCO  \\\n",
      "0  0.182210  0.172808  0.165306  0.775909  4.509626  7.318553  1.386757   \n",
      "1  0.204711  0.198677  0.044460  0.088264  1.989418  4.860906  3.478202   \n",
      "2  0.178355  0.246123  0.011870  0.027933  2.394771  5.930802  3.965970   \n",
      "3  0.153668  0.183934  0.174146  0.198126  0.806294  2.123237  1.617178   \n",
      "4  0.454238  0.221288 -0.367685 -0.568420  1.535641  2.026337  0.644027   \n",
      "\n",
      "       ILGE  \n",
      "0  1.444756  \n",
      "1  2.714289  \n",
      "2  3.572469  \n",
      "3  1.890499  \n",
      "4  0.883976  \n"
     ]
    }
   ],
   "source": [
    "import pandas as pd\n",
    "import pyreadstat\n",
    "\n",
    "# Caminho do arquivo\n",
    "file_path = r\"D:\\OneDrive\\Estatística\\financ_KPI\\inputs\\Cap 02 - Exemplo.sav\"\n",
    "\n",
    "# Ler o arquivo .sav\n",
    "df, meta = pyreadstat.read_sav(file_path)\n",
    "\n",
    "# Exibir as primeiras linhas do DataFrame\n",
    "print(df.head())"
   ]
  },
  {
   "cell_type": "code",
   "execution_count": null,
   "metadata": {},
   "outputs": [],
   "source": []
  },
  {
   "cell_type": "code",
   "execution_count": null,
   "metadata": {},
   "outputs": [],
   "source": []
  },
  {
   "cell_type": "code",
   "execution_count": null,
   "metadata": {},
   "outputs": [],
   "source": []
  },
  {
   "cell_type": "code",
   "execution_count": null,
   "metadata": {},
   "outputs": [],
   "source": []
  },
  {
   "cell_type": "code",
   "execution_count": null,
   "metadata": {},
   "outputs": [],
   "source": []
  },
  {
   "cell_type": "code",
   "execution_count": null,
   "metadata": {},
   "outputs": [],
   "source": []
  },
  {
   "cell_type": "code",
   "execution_count": null,
   "metadata": {},
   "outputs": [],
   "source": []
  }
 ],
 "metadata": {
  "kernelspec": {
   "display_name": "base",
   "language": "python",
   "name": "python3"
  },
  "language_info": {
   "codemirror_mode": {
    "name": "ipython",
    "version": 3
   },
   "file_extension": ".py",
   "mimetype": "text/x-python",
   "name": "python",
   "nbconvert_exporter": "python",
   "pygments_lexer": "ipython3",
   "version": "3.11.7"
  }
 },
 "nbformat": 4,
 "nbformat_minor": 2
}
