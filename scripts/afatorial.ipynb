{
 "cells": [
  {
   "cell_type": "code",
   "execution_count": 1,
   "metadata": {},
   "outputs": [],
   "source": [
    "import warnings\n",
    "warnings.simplefilter(action='ignore', category=FutureWarning)"
   ]
  },
  {
   "cell_type": "code",
   "execution_count": 2,
   "metadata": {},
   "outputs": [
    {
     "data": {
      "text/html": [
       "<div>\n",
       "<style scoped>\n",
       "    .dataframe tbody tr th:only-of-type {\n",
       "        vertical-align: middle;\n",
       "    }\n",
       "\n",
       "    .dataframe tbody tr th {\n",
       "        vertical-align: top;\n",
       "    }\n",
       "\n",
       "    .dataframe thead th {\n",
       "        text-align: right;\n",
       "    }\n",
       "</style>\n",
       "<table border=\"1\" class=\"dataframe\">\n",
       "  <thead>\n",
       "    <tr style=\"text-align: right;\">\n",
       "      <th></th>\n",
       "      <th>SEGURADORAS</th>\n",
       "      <th>ICOM</th>\n",
       "      <th>ICOA</th>\n",
       "      <th>ICAP</th>\n",
       "      <th>IEND</th>\n",
       "      <th>IRPG</th>\n",
       "      <th>IIMR</th>\n",
       "      <th>ISIN</th>\n",
       "      <th>ICOL</th>\n",
       "      <th>IDAD</th>\n",
       "      <th>ILPG</th>\n",
       "      <th>IRPL</th>\n",
       "      <th>PRPL</th>\n",
       "      <th>IALI</th>\n",
       "      <th>ILCO</th>\n",
       "      <th>ILGE</th>\n",
       "    </tr>\n",
       "  </thead>\n",
       "  <tbody>\n",
       "    <tr>\n",
       "      <th>0</th>\n",
       "      <td>S001</td>\n",
       "      <td>0.885</td>\n",
       "      <td>0.843</td>\n",
       "      <td>0.306386</td>\n",
       "      <td>2.025536</td>\n",
       "      <td>0.194051</td>\n",
       "      <td>0.337447</td>\n",
       "      <td>0.506526</td>\n",
       "      <td>0.182210</td>\n",
       "      <td>0.172808</td>\n",
       "      <td>0.165306</td>\n",
       "      <td>0.775909</td>\n",
       "      <td>4.509626</td>\n",
       "      <td>7.318553</td>\n",
       "      <td>1.386757</td>\n",
       "      <td>1.444756</td>\n",
       "    </tr>\n",
       "    <tr>\n",
       "      <th>1</th>\n",
       "      <td>S002</td>\n",
       "      <td>1.073</td>\n",
       "      <td>0.960</td>\n",
       "      <td>0.300834</td>\n",
       "      <td>1.101956</td>\n",
       "      <td>0.190632</td>\n",
       "      <td>0.333064</td>\n",
       "      <td>0.639386</td>\n",
       "      <td>0.204711</td>\n",
       "      <td>0.198677</td>\n",
       "      <td>0.044460</td>\n",
       "      <td>0.088264</td>\n",
       "      <td>1.989418</td>\n",
       "      <td>4.860906</td>\n",
       "      <td>3.478202</td>\n",
       "      <td>2.714289</td>\n",
       "    </tr>\n",
       "    <tr>\n",
       "      <th>2</th>\n",
       "      <td>S003</td>\n",
       "      <td>1.125</td>\n",
       "      <td>0.990</td>\n",
       "      <td>0.254535</td>\n",
       "      <td>1.037175</td>\n",
       "      <td>0.171744</td>\n",
       "      <td>0.223465</td>\n",
       "      <td>0.668026</td>\n",
       "      <td>0.178355</td>\n",
       "      <td>0.246123</td>\n",
       "      <td>0.011870</td>\n",
       "      <td>0.027933</td>\n",
       "      <td>2.394771</td>\n",
       "      <td>5.930802</td>\n",
       "      <td>3.965970</td>\n",
       "      <td>3.572469</td>\n",
       "    </tr>\n",
       "    <tr>\n",
       "      <th>3</th>\n",
       "      <td>S004</td>\n",
       "      <td>0.948</td>\n",
       "      <td>0.845</td>\n",
       "      <td>0.521968</td>\n",
       "      <td>0.896237</td>\n",
       "      <td>0.304580</td>\n",
       "      <td>0.221494</td>\n",
       "      <td>0.634791</td>\n",
       "      <td>0.153668</td>\n",
       "      <td>0.183934</td>\n",
       "      <td>0.174146</td>\n",
       "      <td>0.198126</td>\n",
       "      <td>0.806294</td>\n",
       "      <td>2.123237</td>\n",
       "      <td>1.617178</td>\n",
       "      <td>1.890499</td>\n",
       "    </tr>\n",
       "    <tr>\n",
       "      <th>4</th>\n",
       "      <td>S005</td>\n",
       "      <td>1.352</td>\n",
       "      <td>1.373</td>\n",
       "      <td>0.562166</td>\n",
       "      <td>0.765987</td>\n",
       "      <td>-0.587199</td>\n",
       "      <td>1.101719</td>\n",
       "      <td>0.642313</td>\n",
       "      <td>0.454238</td>\n",
       "      <td>0.221288</td>\n",
       "      <td>-0.367685</td>\n",
       "      <td>-0.568420</td>\n",
       "      <td>1.535641</td>\n",
       "      <td>2.026337</td>\n",
       "      <td>0.644027</td>\n",
       "      <td>0.883976</td>\n",
       "    </tr>\n",
       "  </tbody>\n",
       "</table>\n",
       "</div>"
      ],
      "text/plain": [
       "  SEGURADORAS   ICOM   ICOA      ICAP      IEND      IRPG      IIMR      ISIN  \\\n",
       "0        S001  0.885  0.843  0.306386  2.025536  0.194051  0.337447  0.506526   \n",
       "1        S002  1.073  0.960  0.300834  1.101956  0.190632  0.333064  0.639386   \n",
       "2        S003  1.125  0.990  0.254535  1.037175  0.171744  0.223465  0.668026   \n",
       "3        S004  0.948  0.845  0.521968  0.896237  0.304580  0.221494  0.634791   \n",
       "4        S005  1.352  1.373  0.562166  0.765987 -0.587199  1.101719  0.642313   \n",
       "\n",
       "       ICOL      IDAD      ILPG      IRPL      PRPL      IALI      ILCO  \\\n",
       "0  0.182210  0.172808  0.165306  0.775909  4.509626  7.318553  1.386757   \n",
       "1  0.204711  0.198677  0.044460  0.088264  1.989418  4.860906  3.478202   \n",
       "2  0.178355  0.246123  0.011870  0.027933  2.394771  5.930802  3.965970   \n",
       "3  0.153668  0.183934  0.174146  0.198126  0.806294  2.123237  1.617178   \n",
       "4  0.454238  0.221288 -0.367685 -0.568420  1.535641  2.026337  0.644027   \n",
       "\n",
       "       ILGE  \n",
       "0  1.444756  \n",
       "1  2.714289  \n",
       "2  3.572469  \n",
       "3  1.890499  \n",
       "4  0.883976  "
      ]
     },
     "execution_count": 2,
     "metadata": {},
     "output_type": "execute_result"
    }
   ],
   "source": [
    "import pandas as pd\n",
    "import pyreadstat\n",
    "\n",
    "# Caminho do arquivo\n",
    "file_path = r\"D:\\OneDrive\\Estatística\\financ_KPI\\inputs\\Cap 02 - Exemplo.sav\"\n",
    "\n",
    "# Ler o arquivo .sav\n",
    "df, meta = pyreadstat.read_sav(file_path)\n",
    "\n",
    "# Exibir as primeiras linhas do DataFrame\n",
    "df.head()"
   ]
  },
  {
   "cell_type": "code",
   "execution_count": 3,
   "metadata": {},
   "outputs": [
    {
     "name": "stdout",
     "output_type": "stream",
     "text": [
      "<class 'pandas.core.frame.DataFrame'>\n",
      "RangeIndex: 107 entries, 0 to 106\n",
      "Data columns (total 16 columns):\n",
      " #   Column       Non-Null Count  Dtype  \n",
      "---  ------       --------------  -----  \n",
      " 0   SEGURADORAS  107 non-null    object \n",
      " 1   ICOM         107 non-null    float64\n",
      " 2   ICOA         107 non-null    float64\n",
      " 3   ICAP         107 non-null    float64\n",
      " 4   IEND         107 non-null    float64\n",
      " 5   IRPG         107 non-null    float64\n",
      " 6   IIMR         107 non-null    float64\n",
      " 7   ISIN         107 non-null    float64\n",
      " 8   ICOL         107 non-null    float64\n",
      " 9   IDAD         107 non-null    float64\n",
      " 10  ILPG         107 non-null    float64\n",
      " 11  IRPL         107 non-null    float64\n",
      " 12  PRPL         107 non-null    float64\n",
      " 13  IALI         107 non-null    float64\n",
      " 14  ILCO         107 non-null    float64\n",
      " 15  ILGE         107 non-null    float64\n",
      "dtypes: float64(15), object(1)\n",
      "memory usage: 13.5+ KB\n"
     ]
    }
   ],
   "source": [
    "df.info()"
   ]
  },
  {
   "cell_type": "code",
   "execution_count": 4,
   "metadata": {},
   "outputs": [],
   "source": [
    "#!pip install factor_analyzer"
   ]
  },
  {
   "cell_type": "code",
   "execution_count": 5,
   "metadata": {},
   "outputs": [],
   "source": [
    "import pandas as pd\n",
    "import numpy as np\n",
    "from factor_analyzer import FactorAnalyzer\n",
    "import matplotlib.pyplot as plt"
   ]
  },
  {
   "cell_type": "markdown",
   "metadata": {},
   "source": [
    "* 1 - Import necessary libraries\n",
    "* 2 - Load the data\n",
    "* 3 - Perform data reduction\n",
    "* 4 - Choose numeric variables\n",
    "* 5 - Perform descriptive univariate analysis\n",
    "* 6 - Calculate initial solution communalities\n",
    "* 7 - Perform KMO and Bartlett's test\n",
    "* 8 - Perform Principal Component Analysis (PCA)\n",
    "* 9 - Create a scree plot\n",
    "* 10 - Perform Varimax rotation\n",
    "* 11 - Display factor scores\n",
    "* 12 - Display anti-image matrix and communalities\n",
    "* 13 - Display total variance explained\n",
    "* 14 - Display extraction sums of squared loadings\n",
    "* 15 - Display rotation sums of squared loadings"
   ]
  },
  {
   "cell_type": "markdown",
   "metadata": {},
   "source": [
    "primeira análise"
   ]
  },
  {
   "cell_type": "code",
   "execution_count": 7,
   "metadata": {},
   "outputs": [],
   "source": [
    "# # Import necessary libraries\n",
    "# import pandas as pd\n",
    "# import numpy as np\n",
    "# import matplotlib.pyplot as plt\n",
    "# from factor_analyzer import FactorAnalyzer\n",
    "# from factor_analyzer.factor_analyzer import calculate_bartlett_sphericity\n",
    "# from factor_analyzer.factor_analyzer import calculate_kmo\n",
    "\n",
    "# # Load the data\n",
    "# # df = pd.read_csv('your_data.csv')\n",
    "\n",
    "# # Perform data reduction\n",
    "# df = df.select_dtypes(include=[np.number])\n",
    "\n",
    "# # Perform descriptive univariate analysis\n",
    "# print(df.describe())\n",
    "\n",
    "# # Calculate initial solution communalities\n",
    "# fa = FactorAnalyzer(rotation=None)\n",
    "# fa.fit(df)\n",
    "# communalities = fa.get_communalities()\n",
    "# print(\"Communalities:\\n\", communalities)\n",
    "\n",
    "# # Perform KMO and Bartlett's test\n",
    "# kmo_all,kmo_model=calculate_kmo(df)\n",
    "# chi_square_value,p_value=calculate_bartlett_sphericity(df)\n",
    "# print(\"KMO: \", kmo_model)\n",
    "# print(\"Bartlett's test p-value: \", p_value)\n",
    "\n",
    "# # Fit the factor analyzer\n",
    "# fa = FactorAnalyzer(rotation=\"varimax\")\n",
    "# fa.fit(df)\n",
    "\n",
    "# # Get eigenvalues\n",
    "# eigen_values, _ = fa.get_eigenvalues()\n",
    "\n",
    "# # Use the Kaiser criterion\n",
    "# n_factors_kaiser = len(eigen_values[eigen_values > 1])\n",
    "# print(\"Number of factors (Kaiser criterion): \", n_factors_kaiser)\n",
    "\n",
    "# # Create a scree plot\n",
    "# plt.plot(range(1, df.shape[1]+1), eigen_values, 'bo-')\n",
    "# plt.plot([0, df.shape[1]+1], [1, 1], 'r--')\n",
    "# plt.title('Scree Plot')\n",
    "# plt.xlabel('Factor')\n",
    "# plt.ylabel('Eigenvalue')\n",
    "# plt.show()\n",
    "\n",
    "# # Perform Varimax rotation with the number of factors from Kaiser criterion\n",
    "# fa = FactorAnalyzer(n_factors=n_factors_kaiser, rotation=\"varimax\")\n",
    "# fa.fit(df)\n",
    "\n",
    "# # Display factor scores\n",
    "# scores = fa.transform(df)\n",
    "# print(\"Factor scores:\\n\", scores)\n",
    "\n",
    "# # Calculate the correlation matrix\n",
    "# corr_matrix = df.corr()\n",
    "\n",
    "# # Calculate the partial correlation matrix as the inverse of the correlation matrix\n",
    "# partial_corr_matrix = pd.DataFrame(np.linalg.inv(corr_matrix.values), corr_matrix.columns, corr_matrix.index)\n",
    "\n",
    "# # Negate the off-diagonal elements\n",
    "# for i in range(partial_corr_matrix.shape[0]):\n",
    "#     for j in range(partial_corr_matrix.shape[1]):\n",
    "#         if i != j:\n",
    "#             partial_corr_matrix.iloc[i, j] = -partial_corr_matrix.iloc[i, j]\n",
    "\n",
    "# # Replace the diagonal elements with the KMO values\n",
    "# kmo_values, _ = calculate_kmo(df)\n",
    "# np.fill_diagonal(partial_corr_matrix.values, kmo_values)\n",
    "\n",
    "# # The resulting matrix is the anti-image matrix\n",
    "# anti_image_matrix = partial_corr_matrix\n",
    "# print(\"Anti-image Matrix:\\n\", anti_image_matrix)\n",
    "\n",
    "# # Display total variance explained\n",
    "# variance = fa.get_factor_variance()\n",
    "# print(\"Total Variance Explained:\\n\", variance)\n",
    "\n",
    "# # Display rotation sums of squared loadings\n",
    "# rotated_loadings = fa.loadings_\n",
    "# print(\"Rotated Loadings:\\n\", rotated_loadings)\n",
    "\n",
    "# rotated_variance = fa.get_factor_variance()\n",
    "# print(\"Rotation Sums of Squared Loadings:\\n\", rotated_variance)"
   ]
  },
  {
   "cell_type": "code",
   "execution_count": 8,
   "metadata": {},
   "outputs": [],
   "source": [
    "# # Perform KMO and Bartlett's test\n",
    "# kmo_all,kmo_model=calculate_kmo(df)\n",
    "# chi_square_value,p_value=calculate_bartlett_sphericity(df)\n",
    "\n",
    "# # Create a DataFrame for the results\n",
    "# results_df = pd.DataFrame({\n",
    "#     'KMO Measure of Sampling Adequacy': [kmo_model],\n",
    "#     'Approx. Chi-Square': [chi_square_value],\n",
    "#     'df': [df.shape[0] - 1],  # degrees of freedom is usually n-1 where n is the number of observations\n",
    "#     'Sig.': [p_value]\n",
    "# })\n",
    "\n",
    "# print(results_df)"
   ]
  },
  {
   "cell_type": "code",
   "execution_count": 9,
   "metadata": {},
   "outputs": [],
   "source": [
    "# # Define a function to categorize KMO values\n",
    "# def categorize_kmo(kmo):\n",
    "#     if kmo < 0.5:\n",
    "#         return 'Inadequado'\n",
    "#     elif kmo < 0.7:\n",
    "#         return 'Medíocre'\n",
    "#     elif kmo < 0.8:\n",
    "#         return 'Bom'\n",
    "#     elif kmo < 0.9:\n",
    "#         return 'Ótimo'\n",
    "#     else:\n",
    "#         return 'Soberbo'\n",
    "\n",
    "# # Apply the function to the KMO column\n",
    "# results_df['KMO Category'] = results_df['KMO Measure of Sampling Adequacy'].apply(categorize_kmo)\n",
    "\n",
    "# # Check the significance level\n",
    "# if results_df['Sig.'].iloc[0] >= 0.1:\n",
    "#     print('Alert: The factor analysis is not advisable')\n",
    "\n",
    "# results_df"
   ]
  },
  {
   "cell_type": "code",
   "execution_count": 10,
   "metadata": {},
   "outputs": [],
   "source": [
    "# # Calculate initial solution communalities\n",
    "# fa = FactorAnalyzer(rotation=None)\n",
    "# fa.fit(df)\n",
    "# communalities = fa.get_communalities()\n",
    "\n",
    "# # Create a DataFrame for the communalities\n",
    "# communalities_df = pd.DataFrame({\n",
    "#     'Variable': df.columns,\n",
    "#     'Initial': [1]*len(df.columns),\n",
    "#     'Extraction': communalities\n",
    "# })\n",
    "\n",
    "# print(communalities_df)"
   ]
  },
  {
   "cell_type": "code",
   "execution_count": 11,
   "metadata": {},
   "outputs": [],
   "source": [
    "# # Perform Principal Component Analysis (PCA)\n",
    "# fa = FactorAnalyzer(n_factors=df.shape[1], rotation=None)\n",
    "# fa.fit(df)\n",
    "\n",
    "# # Get eigenvalues and explained variance\n",
    "# eigenvalues, variance_explained, cumulative_variance = fa.get_factor_variance()\n",
    "\n",
    "# # Create a DataFrame for the total variance explained\n",
    "# variance_df = pd.DataFrame({\n",
    "#     'Component': range(1, len(eigenvalues) + 1),\n",
    "#     'Initial Eigenvalues Total': eigenvalues,\n",
    "#     'Initial Eigenvalues % of Variance': variance_explained,\n",
    "#     'Initial Eigenvalues Cumulative % of Variance': cumulative_variance\n",
    "# })\n",
    "\n",
    "# print(variance_df)"
   ]
  },
  {
   "cell_type": "code",
   "execution_count": 12,
   "metadata": {},
   "outputs": [],
   "source": [
    "\n",
    "# diagonal_values = anti_image_matrix.values.diagonal()\n",
    "# labels = anti_image_matrix.columns[(diagonal_values < 0.5)]\n",
    "\n",
    "# # Create a DataFrame for the results\n",
    "# results_df = pd.DataFrame({\n",
    "#     'Label': labels,\n",
    "#     'Value': diagonal_values[diagonal_values < 0.5]\n",
    "# })\n",
    "\n",
    "# print(results_df)"
   ]
  },
  {
   "cell_type": "markdown",
   "metadata": {},
   "source": [
    "segunda análise"
   ]
  },
  {
   "cell_type": "code",
   "execution_count": 13,
   "metadata": {},
   "outputs": [
    {
     "name": "stdout",
     "output_type": "stream",
     "text": [
      "             ICOM        ICAP        IEND        IDAD        ILPG        PRPL  \\\n",
      "count  107.000000  107.000000  107.000000  107.000000  107.000000  107.000000   \n",
      "mean     7.414626    0.417707    1.121932    1.977454    5.491451    1.731207   \n",
      "std     53.252738    0.198286    0.965495   10.370318   47.204682    1.552109   \n",
      "min      0.570000    0.076189    0.039219  -10.927900   -7.926410   -0.012456   \n",
      "25%      0.979500    0.267393    0.602417    0.183110   -0.026154    0.504196   \n",
      "50%      1.069000    0.370790    0.903130    0.270475    0.065872    1.245228   \n",
      "75%      1.288500    0.551566    1.521104    0.457427    0.167814    2.785482   \n",
      "max    549.670000    0.961683    8.410603   96.573270  478.956800    6.543135   \n",
      "\n",
      "             IALI        ILCO        ILGE  \n",
      "count  107.000000  107.000000  107.000000  \n",
      "mean     4.060524    3.922897    3.770329  \n",
      "std      3.082088    6.543849    6.310695  \n",
      "min      0.110586    0.615305    0.451472  \n",
      "25%      1.877779    1.387457    1.546714  \n",
      "50%      2.944331    1.994142    2.047014  \n",
      "75%      5.669327    3.403788    2.955476  \n",
      "max     16.463640   53.847480   53.829280  \n",
      "Communalities:\n",
      " [0.97347084 0.72207076 0.46081187 0.90070001 1.00230532 0.61070579\n",
      " 0.96667057 0.99942744 0.98526741]\n",
      "KMO:  0.6783900620024936\n",
      "Bartlett's test p-value:  7.654943094085856e-275\n",
      "Number of factors (Kaiser criterion):  3\n"
     ]
    },
    {
     "data": {
      "image/png": "[encoded data removed]",
      "text/plain": [
       "<Figure size 640x480 with 1 Axes>"
      ]
     },
     "metadata": {},
     "output_type": "display_data"
    },
    {
     "name": "stdout",
     "output_type": "stream",
     "text": [
      "Factor scores:\n",
      " [[ 9.32266014e-03  1.03459327e+00 -3.12206397e-01]\n",
      " [-4.94174543e-02  2.83365337e-01 -8.37964758e-02]\n",
      " [-3.88960269e-02  6.20998580e-01  3.47750184e-03]\n",
      " [-9.22919933e-02 -5.59378007e-01 -3.58303050e-01]\n",
      " [-1.26597917e-01 -6.31921781e-01 -4.89554557e-01]\n",
      " [ 4.55433270e-01 -1.26504970e+00 -6.58516949e-02]\n",
      " [-5.41952408e-02 -5.01585575e-02 -3.98940296e-01]\n",
      " [ 2.58883371e-02  1.04068362e+00 -2.62947980e-01]\n",
      " [-1.34614645e-01 -1.08209989e+00 -4.35015874e-01]\n",
      " [-5.79606637e-02 -3.06658401e-01 -4.36462379e-01]\n",
      " [-8.21936045e-02 -4.07472286e-01 -3.74518240e-01]\n",
      " [-1.97959750e-01 -3.46757662e-01  7.58088359e-01]\n",
      " [-6.41124026e-02 -5.84909092e-01 -3.84833692e-01]\n",
      " [-5.46842006e-02 -2.34089072e-01  1.26941199e-01]\n",
      " [-2.56861182e-01  1.74707233e+00  2.54799225e+00]\n",
      " [-1.06434791e-01 -8.06191434e-01 -4.12146597e-01]\n",
      " [-7.87269565e-02 -3.43422113e-01 -2.21543310e-01]\n",
      " [-1.70983732e-01 -1.04800984e+00 -4.34771338e-01]\n",
      " [-9.74549694e-01 -5.59377879e-01  1.74335667e+00]\n",
      " [-7.70373302e-02 -6.12863744e-01 -4.83673495e-01]\n",
      " [-5.26743375e-01 -7.91584587e-01  8.27963175e-01]\n",
      " [-2.80137856e-02  4.65703092e-01 -1.22682406e-01]\n",
      " [-1.11200363e-01 -7.59646421e-01 -4.49306695e-01]\n",
      " [ 8.83269625e-03  8.47868664e-01 -2.72653902e-01]\n",
      " [-3.74309840e-02  2.93788241e-01 -2.92744802e-01]\n",
      " [-4.98308099e-02 -2.62183840e-01 -4.02163257e-01]\n",
      " [-6.54062269e-02 -2.49878124e-01 -4.18484871e-01]\n",
      " [-1.13592532e-02  5.48785203e-01 -2.78511599e-01]\n",
      " [ 1.53953232e-01  3.95479625e+00  1.16565991e-02]\n",
      " [-4.28265678e-02  1.09756714e+00 -2.66627239e-01]\n",
      " [-2.81888660e-02 -2.70682201e-01 -4.04339497e-01]\n",
      " [ 8.49122374e-03  2.43722998e-01 -4.49306175e-01]\n",
      " [ 1.70755906e-01  2.79251695e+00 -2.04211764e-01]\n",
      " [-6.30882350e-01 -1.43083356e+00  1.25967992e+00]\n",
      " [-1.14327938e-01 -5.85314502e-01 -2.30545129e-01]\n",
      " [-3.12500258e-02  4.63331711e-01 -2.90956648e-01]\n",
      " [-3.32187203e-02  5.82019948e-01 -1.92574644e-01]\n",
      " [-9.23920276e-03  5.19001832e-01 -3.12029640e-01]\n",
      " [-2.62064236e-02 -5.33294626e-01 -1.94088088e-01]\n",
      " [-1.05710869e-01 -6.24658591e-01 -4.21319655e-01]\n",
      " [ 4.14448225e-02  1.15494045e+00 -3.05167572e-01]\n",
      " [-1.56208190e-02  3.57241477e-01 -3.00909069e-01]\n",
      " [-1.00992317e-01 -6.62110508e-01 -4.43323968e-01]\n",
      " [-2.16132068e-02 -6.48458169e-03 -3.79539866e-01]\n",
      " [-3.27516527e-01 -1.08704970e+00  5.80732703e-02]\n",
      " [ 1.48013995e-02  1.54443301e+00 -7.41195546e-02]\n",
      " [ 3.45540654e-02  5.78320651e-01 -2.78861476e-01]\n",
      " [-4.29462304e-02  6.21954008e-01  2.48228006e-01]\n",
      " [ 3.84481819e-02  1.69180734e+00 -1.07227601e-01]\n",
      " [-1.52493722e-01 -5.14819590e-01 -1.84855392e-01]\n",
      " [-1.46376311e+00 -1.73635435e+00  8.31782427e+00]\n",
      " [-7.07403654e-02 -3.00594145e-01 -2.83590224e-01]\n",
      " [-3.91752007e-02 -3.41614595e-01 -3.72553960e-01]\n",
      " [-2.32234017e-01 -9.87161904e-01  1.50625947e-01]\n",
      " [-1.37233189e-02  1.07669797e+00 -8.75383455e-02]\n",
      " [ 9.84898699e+00 -6.67453102e-01  1.37182755e+00]\n",
      " [-2.91949167e-02  1.49482613e+00 -4.30806397e-02]\n",
      " [-2.10350551e-02  2.03134807e-01 -4.40573406e-01]\n",
      " [-2.43670136e-01 -1.31550411e+00 -3.12025463e-01]\n",
      " [-1.53738679e-01 -7.11255445e-01 -3.39889497e-01]\n",
      " [-1.70250159e-01 -9.07749599e-01 -3.85331021e-01]\n",
      " [ 1.06382561e-02  1.15528118e+00 -1.53813047e-01]\n",
      " [-2.32825358e-01 -7.42567767e-01  1.68370631e-02]\n",
      " [ 2.27041561e+00 -1.32541712e+00  7.15190310e-01]\n",
      " [-7.73430344e-02 -5.31676896e-01 -4.40811140e-01]\n",
      " [-1.46044163e-01 -2.66948503e-01 -3.30045559e-01]\n",
      " [-2.53751477e-01 -1.08098228e+00  3.01689603e-01]\n",
      " [-1.96490237e-01 -9.34428101e-01 -1.16711233e-01]\n",
      " [-7.76714630e-02 -3.74170070e-01 -4.15972918e-01]\n",
      " [-2.84121261e-02  3.83551700e-01 -1.80300892e-01]\n",
      " [-4.06380024e-02  6.93702625e-01  2.51839376e-02]\n",
      " [-3.91305249e-01  7.27666961e-01  2.71302053e+00]\n",
      " [-2.00401554e-01 -7.01558999e-01  1.72132174e-01]\n",
      " [-1.56681238e-01 -6.44410869e-01 -3.09851560e-01]\n",
      " [ 3.13642983e-02  1.16371642e+00 -1.04970431e-01]\n",
      " [-7.91331873e-02 -5.40649092e-01 -3.33906293e-01]\n",
      " [-1.45407396e-01 -8.40368078e-01 -2.92655389e-01]\n",
      " [-1.88751684e-01 -1.18668019e+00 -3.98633543e-01]\n",
      " [-1.81102603e-01 -9.41572084e-01 -3.90421260e-01]\n",
      " [-3.68233317e-02 -1.56336331e-01  4.57074902e-02]\n",
      " [-2.13161770e-01 -1.36196646e+00 -4.79928275e-01]\n",
      " [ 1.28721120e-02  1.62951272e+00 -1.01951764e-01]\n",
      " [-5.19089218e-01 -8.25626498e-01 -2.57939016e-01]\n",
      " [-8.67509921e-02 -5.04569584e-01 -4.18560934e-01]\n",
      " [-1.05154730e-01 -6.63694263e-01 -3.81109717e-01]\n",
      " [-5.86064182e-02 -1.17994905e-01  2.33161684e-02]\n",
      " [-3.79981493e-02  4.09131170e-01 -1.40503405e-02]\n",
      " [-4.56623909e-01 -5.35037040e-01 -2.83396469e-01]\n",
      " [-4.21521917e-01 -6.17419992e-01 -3.77550849e-01]\n",
      " [-1.83146792e-02  3.13003622e-01 -3.59845733e-01]\n",
      " [-2.23911382e-02  5.82551001e-01 -1.11005877e-01]\n",
      " [-2.36842539e-01  2.85070705e+00  2.67837959e+00]\n",
      " [-1.07027012e-01  4.09339286e-01 -1.92718961e-01]\n",
      " [ 1.18716830e-01  2.45925496e+00 -6.21314326e-03]\n",
      " [-6.87758730e-02 -2.91455096e-01 -3.40564584e-01]\n",
      " [-2.54765160e-01 -9.35508258e-01 -4.17004218e-01]\n",
      " [ 9.89897970e-03  8.12812883e-01 -3.31969192e-01]\n",
      " [-2.62510756e-02  2.74656750e-01 -2.75104011e-01]\n",
      " [-2.85656150e-02 -1.83201844e-01 -4.42141042e-01]\n",
      " [-1.12661790e-01 -5.55698518e-01 -2.19322981e-01]\n",
      " [-6.84897613e-02  9.42333428e-01  1.31700915e-01]\n",
      " [-1.51223780e-01 -1.09037482e+00 -4.40360431e-01]\n",
      " [-8.75869856e-03  9.59834855e-01 -1.16363466e-01]\n",
      " [-7.13347425e-02  4.63398259e-01  1.76814270e-01]\n",
      " [-1.56134920e-01 -8.29640755e-01 -1.24220222e-01]\n",
      " [ 8.31921293e-04  5.77937257e-01 -3.07628673e-01]\n",
      " [-3.43636773e-02  2.96978816e-01 -2.62965146e-01]]\n",
      "Anti-image Matrix:\n",
      "             ICOM      ICAP      IEND       IDAD        ILPG      PRPL  \\\n",
      "ICOM    0.661722 -4.368052  0.281186 -13.056118  112.322702 -0.519441   \n",
      "ICAP   -4.368052  0.765782 -0.786183  -0.036049    5.322347  0.177672   \n",
      "IEND    0.281186 -0.786183  0.847939   0.587835   -0.482381 -0.193976   \n",
      "IDAD  -13.056118 -0.036049  0.587835   0.813700   24.209099 -0.133319   \n",
      "ILPG  112.322702  5.322347 -0.482381  24.209099    0.625415  0.848159   \n",
      "PRPL   -0.519441  0.177672 -0.193976  -0.133319    0.848159  0.701982   \n",
      "IALI   -3.966176 -2.291004  0.799729  -1.022279    5.028044  2.919151   \n",
      "ILCO    3.796125 -0.587654 -1.329647   2.385176   -5.886988 -2.989355   \n",
      "ILGE   -2.794155  0.094153  0.484473  -1.067478    4.417632  1.847051   \n",
      "\n",
      "          IALI       ILCO       ILGE  \n",
      "ICOM -3.966176   3.796125  -2.794155  \n",
      "ICAP -2.291004  -0.587654   0.094153  \n",
      "IEND  0.799729  -1.329647   0.484473  \n",
      "IDAD -1.022279   2.385176  -1.067478  \n",
      "ILPG  5.028044  -5.886988   4.417632  \n",
      "PRPL  2.919151  -2.989355   1.847051  \n",
      "IALI  0.629450   3.751714  -2.419895  \n",
      "ILCO  3.751714   0.582152  46.332211  \n",
      "ILGE -2.419895  46.332211   0.606841  \n",
      "Total Variance Explained:\n",
      " (array([2.91931193, 2.59759933, 2.10451876]), array([0.32436799, 0.28862215, 0.23383542]), array([0.32436799, 0.61299014, 0.84682556]))\n",
      "Rotated Loadings:\n",
      " [[ 0.97030567 -0.0883405   0.15547896]\n",
      " [ 0.26695252 -0.79149476 -0.15602294]\n",
      " [-0.04061669  0.64416635 -0.2102662 ]\n",
      " [ 0.91353721 -0.14079119  0.21523851]\n",
      " [ 0.98542232 -0.09133338  0.15134855]\n",
      " [-0.03623134  0.75906893 -0.18222909]\n",
      " [-0.04791391  0.9694239   0.15681878]\n",
      " [ 0.21063483 -0.04061889  0.97642742]\n",
      " [ 0.22654494 -0.05097911  0.96506266]]\n",
      "Rotation Sums of Squared Loadings:\n",
      " (array([2.91931193, 2.59759933, 2.10451876]), array([0.32436799, 0.28862215, 0.23383542]), array([0.32436799, 0.61299014, 0.84682556]))\n"
     ]
    }
   ],
   "source": [
    "# Import necessary libraries\n",
    "import pandas as pd\n",
    "import numpy as np\n",
    "import matplotlib.pyplot as plt\n",
    "from factor_analyzer import FactorAnalyzer\n",
    "from factor_analyzer.factor_analyzer import calculate_bartlett_sphericity\n",
    "from factor_analyzer.factor_analyzer import calculate_kmo\n",
    "\n",
    "# Load the data\n",
    "# df = pd.read_csv('your_data.csv')\n",
    "\n",
    "# Drop the specified columns\n",
    "df = df.drop(columns=['ICOA', 'IIMR', 'ISIN', 'IRPL', 'IRPG', 'ICOL'])\n",
    "\n",
    "# Perform data reduction\n",
    "df = df.select_dtypes(include=[np.number])\n",
    "\n",
    "# Perform descriptive univariate analysis\n",
    "print(df.describe())\n",
    "\n",
    "# Calculate initial solution communalities\n",
    "fa = FactorAnalyzer(rotation=None)\n",
    "fa.fit(df)\n",
    "communalities = fa.get_communalities()\n",
    "print(\"Communalities:\\n\", communalities)\n",
    "\n",
    "# Perform KMO and Bartlett's test\n",
    "kmo_all,kmo_model=calculate_kmo(df)\n",
    "chi_square_value,p_value=calculate_bartlett_sphericity(df)\n",
    "print(\"KMO: \", kmo_model)\n",
    "print(\"Bartlett's test p-value: \", p_value)\n",
    "\n",
    "# Fit the factor analyzer\n",
    "fa = FactorAnalyzer(rotation=\"varimax\")\n",
    "fa.fit(df)\n",
    "\n",
    "# Get eigenvalues\n",
    "eigen_values, _ = fa.get_eigenvalues()\n",
    "\n",
    "# Use the Kaiser criterion\n",
    "n_factors_kaiser = len(eigen_values[eigen_values > 1])\n",
    "print(\"Number of factors (Kaiser criterion): \", n_factors_kaiser)\n",
    "\n",
    "# Create a scree plot\n",
    "plt.plot(range(1, df.shape[1]+1), eigen_values, 'bo-')\n",
    "plt.plot([0, df.shape[1]+1], [1, 1], 'r--')\n",
    "plt.title('Scree Plot')\n",
    "plt.xlabel('Factor')\n",
    "plt.ylabel('Eigenvalue')\n",
    "plt.show()\n",
    "\n",
    "# Perform Varimax rotation with the number of factors from Kaiser criterion\n",
    "fa = FactorAnalyzer(n_factors=n_factors_kaiser, rotation=\"varimax\")\n",
    "fa.fit(df)\n",
    "\n",
    "# Display factor scores\n",
    "scores = fa.transform(df)\n",
    "print(\"Factor scores:\\n\", scores)\n",
    "\n",
    "# Calculate the correlation matrix\n",
    "corr_matrix = df.corr()\n",
    "\n",
    "# Calculate the partial correlation matrix as the inverse of the correlation matrix\n",
    "partial_corr_matrix = pd.DataFrame(np.linalg.inv(corr_matrix.values), corr_matrix.columns, corr_matrix.index)\n",
    "\n",
    "# Negate the off-diagonal elements\n",
    "for i in range(partial_corr_matrix.shape[0]):\n",
    "    for j in range(partial_corr_matrix.shape[1]):\n",
    "        if i != j:\n",
    "            partial_corr_matrix.iloc[i, j] = -partial_corr_matrix.iloc[i, j]\n",
    "\n",
    "# Replace the diagonal elements with the KMO values\n",
    "kmo_values, _ = calculate_kmo(df)\n",
    "np.fill_diagonal(partial_corr_matrix.values, kmo_values)\n",
    "\n",
    "# The resulting matrix is the anti-image matrix\n",
    "anti_image_matrix = partial_corr_matrix\n",
    "print(\"Anti-image Matrix:\\n\", anti_image_matrix)\n",
    "\n",
    "# Display total variance explained\n",
    "variance = fa.get_factor_variance()\n",
    "print(\"Total Variance Explained:\\n\", variance)\n",
    "\n",
    "# Display rotation sums of squared loadings\n",
    "rotated_loadings = fa.loadings_\n",
    "print(\"Rotated Loadings:\\n\", rotated_loadings)\n",
    "\n",
    "rotated_variance = fa.get_factor_variance()\n",
    "print(\"Rotation Sums of Squared Loadings:\\n\", rotated_variance)"
   ]
  },
  {
   "cell_type": "code",
   "execution_count": 14,
   "metadata": {},
   "outputs": [
    {
     "data": {
      "text/html": [
       "<div>\n",
       "<style scoped>\n",
       "    .dataframe tbody tr th:only-of-type {\n",
       "        vertical-align: middle;\n",
       "    }\n",
       "\n",
       "    .dataframe tbody tr th {\n",
       "        vertical-align: top;\n",
       "    }\n",
       "\n",
       "    .dataframe thead th {\n",
       "        text-align: right;\n",
       "    }\n",
       "</style>\n",
       "<table border=\"1\" class=\"dataframe\">\n",
       "  <thead>\n",
       "    <tr style=\"text-align: right;\">\n",
       "      <th></th>\n",
       "      <th>KMO Measure of Sampling Adequacy</th>\n",
       "      <th>Approx. Chi-Square</th>\n",
       "      <th>df</th>\n",
       "      <th>Sig.</th>\n",
       "      <th>KMO Category</th>\n",
       "    </tr>\n",
       "  </thead>\n",
       "  <tbody>\n",
       "    <tr>\n",
       "      <th>0</th>\n",
       "      <td>0.67839</td>\n",
       "      <td>1418.574254</td>\n",
       "      <td>106</td>\n",
       "      <td>7.654943e-275</td>\n",
       "      <td>Medíocre</td>\n",
       "    </tr>\n",
       "  </tbody>\n",
       "</table>\n",
       "</div>"
      ],
      "text/plain": [
       "   KMO Measure of Sampling Adequacy  Approx. Chi-Square   df           Sig.  \\\n",
       "0                           0.67839         1418.574254  106  7.654943e-275   \n",
       "\n",
       "  KMO Category  \n",
       "0     Medíocre  "
      ]
     },
     "execution_count": 14,
     "metadata": {},
     "output_type": "execute_result"
    }
   ],
   "source": [
    "# Perform KMO and Bartlett's test\n",
    "kmo_all,kmo_model=calculate_kmo(df)\n",
    "chi_square_value,p_value=calculate_bartlett_sphericity(df)\n",
    "\n",
    "# Create a DataFrame for the results\n",
    "results_df = pd.DataFrame({\n",
    "    'KMO Measure of Sampling Adequacy': [kmo_model],\n",
    "    'Approx. Chi-Square': [chi_square_value],\n",
    "    'df': [df.shape[0] - 1],  # degrees of freedom is usually n-1 where n is the number of observations\n",
    "    'Sig.': [p_value]\n",
    "})\n",
    "\n",
    "# Define a function to categorize KMO values\n",
    "def categorize_kmo(kmo):\n",
    "    if kmo < 0.5:\n",
    "        return 'Inadequado'\n",
    "    elif kmo < 0.7:\n",
    "        return 'Medíocre'\n",
    "    elif kmo < 0.8:\n",
    "        return 'Bom'\n",
    "    elif kmo < 0.9:\n",
    "        return 'Ótimo'\n",
    "    else:\n",
    "        return 'Soberbo'\n",
    "\n",
    "# Apply the function to the KMO column\n",
    "results_df['KMO Category'] = results_df['KMO Measure of Sampling Adequacy'].apply(categorize_kmo)\n",
    "\n",
    "# Check the significance level\n",
    "if results_df['Sig.'].iloc[0] >= 0.1:\n",
    "    print('Alert: The factor analysis is not advisable')\n",
    "\n",
    "results_df"
   ]
  },
  {
   "cell_type": "code",
   "execution_count": 15,
   "metadata": {},
   "outputs": [
    {
     "name": "stdout",
     "output_type": "stream",
     "text": [
      "  Variable  Initial  Extraction\n",
      "0     ICOM        1    0.973471\n",
      "1     ICAP        1    0.722071\n",
      "2     IEND        1    0.460812\n",
      "3     IDAD        1    0.900700\n",
      "4     ILPG        1    1.002305\n",
      "5     PRPL        1    0.610706\n",
      "6     IALI        1    0.966671\n",
      "7     ILCO        1    0.999427\n",
      "8     ILGE        1    0.985267\n"
     ]
    }
   ],
   "source": [
    "# Calculate initial solution communalities\n",
    "fa = FactorAnalyzer(rotation=None)\n",
    "fa.fit(df)\n",
    "communalities = fa.get_communalities()\n",
    "\n",
    "# Create a DataFrame for the communalities\n",
    "communalities_df = pd.DataFrame({\n",
    "    'Variable': df.columns,\n",
    "    'Initial': [1]*len(df.columns),\n",
    "    'Extraction': communalities\n",
    "})\n",
    "\n",
    "print(communalities_df)"
   ]
  },
  {
   "cell_type": "code",
   "execution_count": 16,
   "metadata": {},
   "outputs": [
    {
     "name": "stdout",
     "output_type": "stream",
     "text": [
      "Number of factors (Kaiser criterion):  3\n"
     ]
    },
    {
     "data": {
      "text/html": [
       "<div>\n",
       "<style scoped>\n",
       "    .dataframe tbody tr th:only-of-type {\n",
       "        vertical-align: middle;\n",
       "    }\n",
       "\n",
       "    .dataframe tbody tr th {\n",
       "        vertical-align: top;\n",
       "    }\n",
       "\n",
       "    .dataframe thead th {\n",
       "        text-align: right;\n",
       "    }\n",
       "</style>\n",
       "<table border=\"1\" class=\"dataframe\">\n",
       "  <thead>\n",
       "    <tr style=\"text-align: right;\">\n",
       "      <th></th>\n",
       "      <th>Component</th>\n",
       "      <th>Initial Eigenvalues Total</th>\n",
       "      <th>Initial Eigenvalues % of Variance</th>\n",
       "      <th>Initial Eigenvalues Cumulative % of Variance</th>\n",
       "    </tr>\n",
       "  </thead>\n",
       "  <tbody>\n",
       "    <tr>\n",
       "      <th>0</th>\n",
       "      <td>1</td>\n",
       "      <td>3.805274</td>\n",
       "      <td>0.422808</td>\n",
       "      <td>0.422808</td>\n",
       "    </tr>\n",
       "    <tr>\n",
       "      <th>1</th>\n",
       "      <td>2</td>\n",
       "      <td>2.333011</td>\n",
       "      <td>0.259223</td>\n",
       "      <td>0.682032</td>\n",
       "    </tr>\n",
       "    <tr>\n",
       "      <th>2</th>\n",
       "      <td>3</td>\n",
       "      <td>1.483146</td>\n",
       "      <td>0.164794</td>\n",
       "      <td>0.846826</td>\n",
       "    </tr>\n",
       "  </tbody>\n",
       "</table>\n",
       "</div>"
      ],
      "text/plain": [
       "   Component  Initial Eigenvalues Total  Initial Eigenvalues % of Variance  \\\n",
       "0          1                   3.805274                           0.422808   \n",
       "1          2                   2.333011                           0.259223   \n",
       "2          3                   1.483146                           0.164794   \n",
       "\n",
       "   Initial Eigenvalues Cumulative % of Variance  \n",
       "0                                      0.422808  \n",
       "1                                      0.682032  \n",
       "2                                      0.846826  "
      ]
     },
     "execution_count": 16,
     "metadata": {},
     "output_type": "execute_result"
    }
   ],
   "source": [
    "# Fit the factor analyzer\n",
    "fa_kaiser = FactorAnalyzer(rotation=\"varimax\")\n",
    "fa_kaiser.fit(df)\n",
    "\n",
    "# Get eigenvalues\n",
    "eigen_values, _ = fa_kaiser.get_eigenvalues()\n",
    "\n",
    "# Use the Kaiser criterion\n",
    "n_factors_kaiser = len(eigen_values[eigen_values > 1])\n",
    "print(\"Number of factors (Kaiser criterion): \", n_factors_kaiser)\n",
    "\n",
    "# Perform Principal Component Analysis (PCA) with the number of factors from Kaiser criterion\n",
    "fa = FactorAnalyzer(n_factors=n_factors_kaiser, rotation=None)\n",
    "fa.fit(df)\n",
    "\n",
    "# Get eigenvalues and explained variance\n",
    "eigenvalues, variance_explained, cumulative_variance = fa.get_factor_variance()\n",
    "\n",
    "# Create a DataFrame for the total variance explained\n",
    "variance_df = pd.DataFrame({\n",
    "    'Component': range(1, len(eigenvalues) + 1),\n",
    "    'Initial Eigenvalues Total': eigenvalues,\n",
    "    'Initial Eigenvalues % of Variance': variance_explained,\n",
    "    'Initial Eigenvalues Cumulative % of Variance': cumulative_variance\n",
    "})\n",
    "\n",
    "variance_df"
   ]
  },
  {
   "cell_type": "code",
   "execution_count": 17,
   "metadata": {},
   "outputs": [
    {
     "name": "stdout",
     "output_type": "stream",
     "text": [
      "Number of factors (Kaiser criterion):  3\n"
     ]
    },
    {
     "data": {
      "text/html": [
       "<div>\n",
       "<style scoped>\n",
       "    .dataframe tbody tr th:only-of-type {\n",
       "        vertical-align: middle;\n",
       "    }\n",
       "\n",
       "    .dataframe tbody tr th {\n",
       "        vertical-align: top;\n",
       "    }\n",
       "\n",
       "    .dataframe thead th {\n",
       "        text-align: right;\n",
       "    }\n",
       "</style>\n",
       "<table border=\"1\" class=\"dataframe\">\n",
       "  <thead>\n",
       "    <tr style=\"text-align: right;\">\n",
       "      <th></th>\n",
       "      <th>Component</th>\n",
       "      <th>Extraction Sums of Squared Loadings Total</th>\n",
       "      <th>Extraction Sums of Squared Loadings % of Variance</th>\n",
       "      <th>Extraction Sums of Squared Loadings Cumulative % of Variance</th>\n",
       "    </tr>\n",
       "  </thead>\n",
       "  <tbody>\n",
       "    <tr>\n",
       "      <th>0</th>\n",
       "      <td>1</td>\n",
       "      <td>2.919312</td>\n",
       "      <td>0.324368</td>\n",
       "      <td>0.324368</td>\n",
       "    </tr>\n",
       "    <tr>\n",
       "      <th>1</th>\n",
       "      <td>2</td>\n",
       "      <td>2.597599</td>\n",
       "      <td>0.288622</td>\n",
       "      <td>0.612990</td>\n",
       "    </tr>\n",
       "    <tr>\n",
       "      <th>2</th>\n",
       "      <td>3</td>\n",
       "      <td>2.104519</td>\n",
       "      <td>0.233835</td>\n",
       "      <td>0.846826</td>\n",
       "    </tr>\n",
       "  </tbody>\n",
       "</table>\n",
       "</div>"
      ],
      "text/plain": [
       "   Component  Extraction Sums of Squared Loadings Total  \\\n",
       "0          1                                   2.919312   \n",
       "1          2                                   2.597599   \n",
       "2          3                                   2.104519   \n",
       "\n",
       "   Extraction Sums of Squared Loadings % of Variance  \\\n",
       "0                                           0.324368   \n",
       "1                                           0.288622   \n",
       "2                                           0.233835   \n",
       "\n",
       "   Extraction Sums of Squared Loadings Cumulative % of Variance  \n",
       "0                                           0.324368             \n",
       "1                                           0.612990             \n",
       "2                                           0.846826             "
      ]
     },
     "execution_count": 17,
     "metadata": {},
     "output_type": "execute_result"
    }
   ],
   "source": [
    "# Fit the factor analyzer\n",
    "fa_kaiser = FactorAnalyzer(rotation=\"varimax\")\n",
    "fa_kaiser.fit(df)\n",
    "\n",
    "# Get eigenvalues\n",
    "eigen_values, _ = fa_kaiser.get_eigenvalues()\n",
    "\n",
    "# Use the Kaiser criterion\n",
    "n_factors_kaiser = len(eigen_values[eigen_values > 1])\n",
    "print(\"Number of factors (Kaiser criterion): \", n_factors_kaiser)\n",
    "\n",
    "# Perform Principal Component Analysis (PCA) with the number of factors from Kaiser criterion and varimax rotation\n",
    "fa = FactorAnalyzer(n_factors=n_factors_kaiser, rotation=\"varimax\")\n",
    "fa.fit(df)\n",
    "\n",
    "# Get eigenvalues and explained variance after rotation\n",
    "rotated_eigenvalues, rotated_variance_explained, rotated_cumulative_variance = fa.get_factor_variance()\n",
    "\n",
    "# Create a DataFrame for the total variance explained\n",
    "variance_df = pd.DataFrame({\n",
    "    'Component': range(1, len(rotated_eigenvalues) + 1),\n",
    "    'Extraction Sums of Squared Loadings Total': rotated_eigenvalues,\n",
    "    'Extraction Sums of Squared Loadings % of Variance': rotated_variance_explained,\n",
    "    'Extraction Sums of Squared Loadings Cumulative % of Variance': rotated_cumulative_variance\n",
    "})\n",
    "\n",
    "variance_df"
   ]
  },
  {
   "cell_type": "code",
   "execution_count": 18,
   "metadata": {},
   "outputs": [
    {
     "name": "stdout",
     "output_type": "stream",
     "text": [
      "Empty DataFrame\n",
      "Columns: [Label, Value]\n",
      "Index: []\n"
     ]
    }
   ],
   "source": [
    "diagonal_values = anti_image_matrix.values.diagonal()\n",
    "labels = anti_image_matrix.columns[(diagonal_values < 0.5)]\n",
    "\n",
    "# Create a DataFrame for the results\n",
    "results_df = pd.DataFrame({\n",
    "    'Label': labels,\n",
    "    'Value': diagonal_values[diagonal_values < 0.5]\n",
    "})\n",
    "\n",
    "print(results_df)"
   ]
  },
  {
   "cell_type": "code",
   "execution_count": 19,
   "metadata": {},
   "outputs": [
    {
     "name": "stdout",
     "output_type": "stream",
     "text": [
      "      Component_1  Component_2  Component_3\n",
      "ICOM     0.970306    -0.088341     0.155479\n",
      "ICAP     0.266953    -0.791495    -0.156023\n",
      "IEND    -0.040617     0.644166    -0.210266\n",
      "IDAD     0.913537    -0.140791     0.215239\n",
      "ILPG     0.985422    -0.091333     0.151349\n",
      "PRPL    -0.036231     0.759069    -0.182229\n",
      "IALI    -0.047914     0.969424     0.156819\n",
      "ILCO     0.210635    -0.040619     0.976427\n",
      "ILGE     0.226545    -0.050979     0.965063\n"
     ]
    }
   ],
   "source": [
    "# Perform Principal Component Analysis (PCA) with the number of factors from Kaiser criterion and varimax rotation\n",
    "fa = FactorAnalyzer(n_factors=n_factors_kaiser, rotation=\"varimax\")\n",
    "fa.fit(df)\n",
    "\n",
    "# Get the factor loadings\n",
    "loadings = fa.loadings_\n",
    "\n",
    "# Create a DataFrame for the factor loadings\n",
    "loadings_df = pd.DataFrame(loadings, index=df.columns, columns=[f'Component_{i+1}' for i in range(n_factors_kaiser)])\n",
    "\n",
    "print(loadings_df)"
   ]
  },
  {
   "cell_type": "code",
   "execution_count": 20,
   "metadata": {},
   "outputs": [
    {
     "name": "stdout",
     "output_type": "stream",
     "text": [
      "      Component_1  Component_2  Component_3\n",
      "ICOM     0.970306          NaN          NaN\n",
      "IDAD     0.913537          NaN          NaN\n",
      "ILPG     0.985422          NaN          NaN\n",
      "IALI          NaN     0.969424          NaN\n",
      "ILCO          NaN          NaN     0.976427\n",
      "ILGE          NaN          NaN     0.965063\n"
     ]
    }
   ],
   "source": [
    "# Filter the DataFrame based on the condition\n",
    "factors = loadings_df[loadings_df.abs() >= 0.9]\n",
    "\n",
    "# Drop the rows that contain only NaN values\n",
    "factors = factors.dropna(how='all')\n",
    "\n",
    "# Print the factors\n",
    "print(factors)"
   ]
  },
  {
   "cell_type": "code",
   "execution_count": 21,
   "metadata": {},
   "outputs": [
    {
     "name": "stdout",
     "output_type": "stream",
     "text": [
      "      Component_1  Component_2  Component_3\n",
      "ICOM     0.970306          NaN          NaN\n",
      "ICAP          NaN    -0.791495          NaN\n",
      "IDAD     0.913537          NaN          NaN\n",
      "ILPG     0.985422          NaN          NaN\n",
      "PRPL          NaN     0.759069          NaN\n",
      "IALI          NaN     0.969424          NaN\n",
      "ILCO          NaN          NaN     0.976427\n",
      "ILGE          NaN          NaN     0.965063\n"
     ]
    }
   ],
   "source": [
    "# Filter the DataFrame based on the condition\n",
    "factors = loadings_df[loadings_df.abs() >= 0.7]\n",
    "\n",
    "# Drop the rows that contain only NaN values\n",
    "factors = factors.dropna(how='all')\n",
    "\n",
    "# Print the factors\n",
    "print(factors)"
   ]
  },
  {
   "cell_type": "code",
   "execution_count": 22,
   "metadata": {},
   "outputs": [
    {
     "name": "stdout",
     "output_type": "stream",
     "text": [
      "Component_1 is: ICOM, IDAD, ILPG\n",
      "Component_2 is: ICAP, PRPL, IALI\n",
      "Component_3 is: ILCO, ILGE\n"
     ]
    }
   ],
   "source": [
    "# Iterate over the columns (factors) of the DataFrame\n",
    "for col in factors.columns:\n",
    "    # Get the variables that meet the condition for the current factor\n",
    "    variables = factors[factors[col].notna()].index.tolist()\n",
    "    \n",
    "    # Print the factor and its variables\n",
    "    print(f'{col} is: {\", \".join(variables)}')"
   ]
  },
  {
   "cell_type": "code",
   "execution_count": 23,
   "metadata": {},
   "outputs": [
    {
     "data": {
      "text/html": [
       "<div>\n",
       "<style scoped>\n",
       "    .dataframe tbody tr th:only-of-type {\n",
       "        vertical-align: middle;\n",
       "    }\n",
       "\n",
       "    .dataframe tbody tr th {\n",
       "        vertical-align: top;\n",
       "    }\n",
       "\n",
       "    .dataframe thead th {\n",
       "        text-align: right;\n",
       "    }\n",
       "</style>\n",
       "<table border=\"1\" class=\"dataframe\">\n",
       "  <thead>\n",
       "    <tr style=\"text-align: right;\">\n",
       "      <th></th>\n",
       "      <th>Component</th>\n",
       "      <th>Rotation Sums of Squared Loadings Total</th>\n",
       "      <th>Rotation Sums of Squared Loadings % of Variance</th>\n",
       "      <th>Rotation Sums of Squared Loadings Cumulative % of Variance</th>\n",
       "    </tr>\n",
       "  </thead>\n",
       "  <tbody>\n",
       "    <tr>\n",
       "      <th>0</th>\n",
       "      <td>1</td>\n",
       "      <td>2.919312</td>\n",
       "      <td>0.324368</td>\n",
       "      <td>0.324368</td>\n",
       "    </tr>\n",
       "    <tr>\n",
       "      <th>1</th>\n",
       "      <td>2</td>\n",
       "      <td>2.597599</td>\n",
       "      <td>0.288622</td>\n",
       "      <td>0.612990</td>\n",
       "    </tr>\n",
       "    <tr>\n",
       "      <th>2</th>\n",
       "      <td>3</td>\n",
       "      <td>2.104519</td>\n",
       "      <td>0.233835</td>\n",
       "      <td>0.846826</td>\n",
       "    </tr>\n",
       "  </tbody>\n",
       "</table>\n",
       "</div>"
      ],
      "text/plain": [
       "   Component  Rotation Sums of Squared Loadings Total  \\\n",
       "0          1                                 2.919312   \n",
       "1          2                                 2.597599   \n",
       "2          3                                 2.104519   \n",
       "\n",
       "   Rotation Sums of Squared Loadings % of Variance  \\\n",
       "0                                         0.324368   \n",
       "1                                         0.288622   \n",
       "2                                         0.233835   \n",
       "\n",
       "   Rotation Sums of Squared Loadings Cumulative % of Variance  \n",
       "0                                           0.324368           \n",
       "1                                           0.612990           \n",
       "2                                           0.846826           "
      ]
     },
     "execution_count": 23,
     "metadata": {},
     "output_type": "execute_result"
    }
   ],
   "source": [
    "# Create a DataFrame for the total variance explained\n",
    "variance_df = pd.DataFrame({\n",
    "    'Component': range(1, len(rotated_eigenvalues) + 1),\n",
    "    'Rotation Sums of Squared Loadings Total': rotated_eigenvalues,\n",
    "    'Rotation Sums of Squared Loadings % of Variance': rotated_variance_explained,\n",
    "    'Rotation Sums of Squared Loadings Cumulative % of Variance': rotated_cumulative_variance\n",
    "})\n",
    "\n",
    "variance_df"
   ]
  },
  {
   "cell_type": "markdown",
   "metadata": {},
   "source": [
    "* Fator 1  - controle de despesas operacionais corresponde a 32,4% da variância explicada\n",
    "* Fator 2  - alavancagem corresponde a 28,8% da variância explicada\n",
    "* Fator 3  - alavancagem corresponde a 23,3% da variância explicada\n"
   ]
  },
  {
   "cell_type": "code",
   "execution_count": 24,
   "metadata": {},
   "outputs": [
    {
     "data": {
      "text/html": [
       "<div>\n",
       "<style scoped>\n",
       "    .dataframe tbody tr th:only-of-type {\n",
       "        vertical-align: middle;\n",
       "    }\n",
       "\n",
       "    .dataframe tbody tr th {\n",
       "        vertical-align: top;\n",
       "    }\n",
       "\n",
       "    .dataframe thead th {\n",
       "        text-align: right;\n",
       "    }\n",
       "</style>\n",
       "<table border=\"1\" class=\"dataframe\">\n",
       "  <thead>\n",
       "    <tr style=\"text-align: right;\">\n",
       "      <th></th>\n",
       "      <th>ICOM</th>\n",
       "      <th>ICAP</th>\n",
       "      <th>IEND</th>\n",
       "      <th>IDAD</th>\n",
       "      <th>ILPG</th>\n",
       "      <th>PRPL</th>\n",
       "      <th>IALI</th>\n",
       "      <th>ILCO</th>\n",
       "      <th>ILGE</th>\n",
       "      <th>Component_1</th>\n",
       "      <th>Component_2</th>\n",
       "      <th>Component_3</th>\n",
       "    </tr>\n",
       "  </thead>\n",
       "  <tbody>\n",
       "    <tr>\n",
       "      <th>0</th>\n",
       "      <td>0.885</td>\n",
       "      <td>0.306386</td>\n",
       "      <td>2.025536</td>\n",
       "      <td>0.172808</td>\n",
       "      <td>0.165306</td>\n",
       "      <td>4.509626</td>\n",
       "      <td>7.318553</td>\n",
       "      <td>1.386757</td>\n",
       "      <td>1.444756</td>\n",
       "      <td>0.009323</td>\n",
       "      <td>1.034593</td>\n",
       "      <td>-0.312206</td>\n",
       "    </tr>\n",
       "    <tr>\n",
       "      <th>1</th>\n",
       "      <td>1.073</td>\n",
       "      <td>0.300834</td>\n",
       "      <td>1.101956</td>\n",
       "      <td>0.198677</td>\n",
       "      <td>0.044460</td>\n",
       "      <td>1.989418</td>\n",
       "      <td>4.860906</td>\n",
       "      <td>3.478202</td>\n",
       "      <td>2.714289</td>\n",
       "      <td>-0.049417</td>\n",
       "      <td>0.283365</td>\n",
       "      <td>-0.083796</td>\n",
       "    </tr>\n",
       "    <tr>\n",
       "      <th>2</th>\n",
       "      <td>1.125</td>\n",
       "      <td>0.254535</td>\n",
       "      <td>1.037175</td>\n",
       "      <td>0.246123</td>\n",
       "      <td>0.011870</td>\n",
       "      <td>2.394771</td>\n",
       "      <td>5.930802</td>\n",
       "      <td>3.965970</td>\n",
       "      <td>3.572469</td>\n",
       "      <td>-0.038896</td>\n",
       "      <td>0.620999</td>\n",
       "      <td>0.003478</td>\n",
       "    </tr>\n",
       "    <tr>\n",
       "      <th>3</th>\n",
       "      <td>0.948</td>\n",
       "      <td>0.521968</td>\n",
       "      <td>0.896237</td>\n",
       "      <td>0.183934</td>\n",
       "      <td>0.174146</td>\n",
       "      <td>0.806294</td>\n",
       "      <td>2.123237</td>\n",
       "      <td>1.617178</td>\n",
       "      <td>1.890499</td>\n",
       "      <td>-0.092292</td>\n",
       "      <td>-0.559378</td>\n",
       "      <td>-0.358303</td>\n",
       "    </tr>\n",
       "    <tr>\n",
       "      <th>4</th>\n",
       "      <td>1.352</td>\n",
       "      <td>0.562166</td>\n",
       "      <td>0.765987</td>\n",
       "      <td>0.221288</td>\n",
       "      <td>-0.367685</td>\n",
       "      <td>1.535641</td>\n",
       "      <td>2.026337</td>\n",
       "      <td>0.644027</td>\n",
       "      <td>0.883976</td>\n",
       "      <td>-0.126598</td>\n",
       "      <td>-0.631922</td>\n",
       "      <td>-0.489555</td>\n",
       "    </tr>\n",
       "    <tr>\n",
       "      <th>...</th>\n",
       "      <td>...</td>\n",
       "      <td>...</td>\n",
       "      <td>...</td>\n",
       "      <td>...</td>\n",
       "      <td>...</td>\n",
       "      <td>...</td>\n",
       "      <td>...</td>\n",
       "      <td>...</td>\n",
       "      <td>...</td>\n",
       "      <td>...</td>\n",
       "      <td>...</td>\n",
       "      <td>...</td>\n",
       "    </tr>\n",
       "    <tr>\n",
       "      <th>102</th>\n",
       "      <td>1.103</td>\n",
       "      <td>0.245926</td>\n",
       "      <td>1.447959</td>\n",
       "      <td>0.144784</td>\n",
       "      <td>0.002681</td>\n",
       "      <td>3.488163</td>\n",
       "      <td>7.052654</td>\n",
       "      <td>2.999393</td>\n",
       "      <td>2.597541</td>\n",
       "      <td>-0.008759</td>\n",
       "      <td>0.959835</td>\n",
       "      <td>-0.116363</td>\n",
       "    </tr>\n",
       "    <tr>\n",
       "      <th>103</th>\n",
       "      <td>1.083</td>\n",
       "      <td>0.247044</td>\n",
       "      <td>0.801223</td>\n",
       "      <td>0.199815</td>\n",
       "      <td>-0.016425</td>\n",
       "      <td>2.190051</td>\n",
       "      <td>5.554200</td>\n",
       "      <td>5.127527</td>\n",
       "      <td>4.457865</td>\n",
       "      <td>-0.071335</td>\n",
       "      <td>0.463398</td>\n",
       "      <td>0.176814</td>\n",
       "    </tr>\n",
       "    <tr>\n",
       "      <th>104</th>\n",
       "      <td>1.031</td>\n",
       "      <td>0.663826</td>\n",
       "      <td>0.474723</td>\n",
       "      <td>0.230042</td>\n",
       "      <td>0.652687</td>\n",
       "      <td>0.319321</td>\n",
       "      <td>1.694640</td>\n",
       "      <td>3.079899</td>\n",
       "      <td>3.130736</td>\n",
       "      <td>-0.156135</td>\n",
       "      <td>-0.829641</td>\n",
       "      <td>-0.124220</td>\n",
       "    </tr>\n",
       "    <tr>\n",
       "      <th>105</th>\n",
       "      <td>1.031</td>\n",
       "      <td>0.272816</td>\n",
       "      <td>1.702620</td>\n",
       "      <td>0.183363</td>\n",
       "      <td>0.089709</td>\n",
       "      <td>3.022077</td>\n",
       "      <td>5.592733</td>\n",
       "      <td>1.751371</td>\n",
       "      <td>1.758143</td>\n",
       "      <td>0.000832</td>\n",
       "      <td>0.577937</td>\n",
       "      <td>-0.307629</td>\n",
       "    </tr>\n",
       "    <tr>\n",
       "      <th>106</th>\n",
       "      <td>1.163</td>\n",
       "      <td>0.314739</td>\n",
       "      <td>1.217548</td>\n",
       "      <td>0.378831</td>\n",
       "      <td>-0.079287</td>\n",
       "      <td>2.014600</td>\n",
       "      <td>4.684582</td>\n",
       "      <td>2.212862</td>\n",
       "      <td>2.334214</td>\n",
       "      <td>-0.034364</td>\n",
       "      <td>0.296979</td>\n",
       "      <td>-0.262965</td>\n",
       "    </tr>\n",
       "  </tbody>\n",
       "</table>\n",
       "<p>107 rows × 12 columns</p>\n",
       "</div>"
      ],
      "text/plain": [
       "      ICOM      ICAP      IEND      IDAD      ILPG      PRPL      IALI  \\\n",
       "0    0.885  0.306386  2.025536  0.172808  0.165306  4.509626  7.318553   \n",
       "1    1.073  0.300834  1.101956  0.198677  0.044460  1.989418  4.860906   \n",
       "2    1.125  0.254535  1.037175  0.246123  0.011870  2.394771  5.930802   \n",
       "3    0.948  0.521968  0.896237  0.183934  0.174146  0.806294  2.123237   \n",
       "4    1.352  0.562166  0.765987  0.221288 -0.367685  1.535641  2.026337   \n",
       "..     ...       ...       ...       ...       ...       ...       ...   \n",
       "102  1.103  0.245926  1.447959  0.144784  0.002681  3.488163  7.052654   \n",
       "103  1.083  0.247044  0.801223  0.199815 -0.016425  2.190051  5.554200   \n",
       "104  1.031  0.663826  0.474723  0.230042  0.652687  0.319321  1.694640   \n",
       "105  1.031  0.272816  1.702620  0.183363  0.089709  3.022077  5.592733   \n",
       "106  1.163  0.314739  1.217548  0.378831 -0.079287  2.014600  4.684582   \n",
       "\n",
       "         ILCO      ILGE  Component_1  Component_2  Component_3  \n",
       "0    1.386757  1.444756     0.009323     1.034593    -0.312206  \n",
       "1    3.478202  2.714289    -0.049417     0.283365    -0.083796  \n",
       "2    3.965970  3.572469    -0.038896     0.620999     0.003478  \n",
       "3    1.617178  1.890499    -0.092292    -0.559378    -0.358303  \n",
       "4    0.644027  0.883976    -0.126598    -0.631922    -0.489555  \n",
       "..        ...       ...          ...          ...          ...  \n",
       "102  2.999393  2.597541    -0.008759     0.959835    -0.116363  \n",
       "103  5.127527  4.457865    -0.071335     0.463398     0.176814  \n",
       "104  3.079899  3.130736    -0.156135    -0.829641    -0.124220  \n",
       "105  1.751371  1.758143     0.000832     0.577937    -0.307629  \n",
       "106  2.212862  2.334214    -0.034364     0.296979    -0.262965  \n",
       "\n",
       "[107 rows x 12 columns]"
      ]
     },
     "execution_count": 24,
     "metadata": {},
     "output_type": "execute_result"
    }
   ],
   "source": [
    "# Get the factor scores\n",
    "scores = fa.transform(df)\n",
    "\n",
    "# Create a DataFrame for the factor scores\n",
    "scores_df = pd.DataFrame(scores, columns=[f'Component_{i+1}' for i in range(n_factors_kaiser)])\n",
    "\n",
    "# Concatenate the original DataFrame with the scores DataFrame\n",
    "df_with_scores = pd.concat([df, scores_df], axis=1)\n",
    "\n",
    "df_with_scores"
   ]
  },
  {
   "cell_type": "code",
   "execution_count": 25,
   "metadata": {},
   "outputs": [
    {
     "name": "stdout",
     "output_type": "stream",
     "text": [
      "<class 'pandas.core.frame.DataFrame'>\n",
      "RangeIndex: 107 entries, 0 to 106\n",
      "Data columns (total 12 columns):\n",
      " #   Column       Non-Null Count  Dtype  \n",
      "---  ------       --------------  -----  \n",
      " 0   ICOM         107 non-null    float64\n",
      " 1   ICAP         107 non-null    float64\n",
      " 2   IEND         107 non-null    float64\n",
      " 3   IDAD         107 non-null    float64\n",
      " 4   ILPG         107 non-null    float64\n",
      " 5   PRPL         107 non-null    float64\n",
      " 6   IALI         107 non-null    float64\n",
      " 7   ILCO         107 non-null    float64\n",
      " 8   ILGE         107 non-null    float64\n",
      " 9   Component_1  107 non-null    float64\n",
      " 10  Component_2  107 non-null    float64\n",
      " 11  Component_3  107 non-null    float64\n",
      "dtypes: float64(12)\n",
      "memory usage: 10.2 KB\n"
     ]
    }
   ],
   "source": [
    "df_with_scores.info()   "
   ]
  },
  {
   "cell_type": "code",
   "execution_count": 26,
   "metadata": {},
   "outputs": [
    {
     "data": {
      "application/vnd.plotly.v1+json": {
       "config": {
        "plotlyServerURL": "https://plot.ly"
       },
       "data": [
        {
         "hovertemplate": "Component_1=%{x}<br>Component_2=%{y}<br>Component_3=%{z}<extra></extra>",
         "legendgroup": "",
         "marker": {
          "color": "#636efa",
          "symbol": "circle"
         },
         "mode": "markers",
         "name": "",
         "scene": "scene",
         "showlegend": false,
         "type": "scatter3d",
         "x": [
          0.009322660140864046,
          -0.049417454268952866,
          -0.03889602693587914,
          -0.09229199330684663,
          -0.126597916564097,
          0.45543327037617126,
          -0.05419524075792179,
          0.025888337074438807,
          -0.13461464508583706,
          -0.05796066366720087,
          -0.08219360450694117,
          -0.19795975036914615,
          -0.06411240256762926,
          -0.05468420064886252,
          -0.25686118232188837,
          -0.10643479134858001,
          -0.07872695645295016,
          -0.1709837316150184,
          -0.974549694230381,
          -0.07703733021189782,
          -0.5267433748574784,
          -0.02801378561836554,
          -0.11120036303997569,
          0.008832696250424982,
          -0.03743098400567108,
          -0.049830809859562245,
          -0.06540622686241081,
          -0.01135925321138162,
          0.15395323180089343,
          -0.042826567818204986,
          -0.028188865968432855,
          0.008491223739382001,
          0.17075590647523214,
          -0.6308823498342888,
          -0.11432793764832117,
          -0.031250025847655453,
          -0.033218720335139285,
          -0.009239202759324357,
          -0.026206423595334767,
          -0.10571086869313734,
          0.04144482254055547,
          -0.015620818953732737,
          -0.10099231741235341,
          -0.021613206821989094,
          -0.3275165274946815,
          0.014801399463507354,
          0.03455406542232527,
          -0.042946230355503386,
          0.03844818186667115,
          -0.15249372205314232,
          -1.4637631057775775,
          -0.07074036536900875,
          -0.039175200684468885,
          -0.2322340168812279,
          -0.01372331886741906,
          9.848986992814101,
          -0.02919491667366331,
          -0.021035055066673105,
          -0.24367013566799356,
          -0.15373867922177445,
          -0.17025015889866038,
          0.010638256075766106,
          -0.23282535758201078,
          2.270415605453284,
          -0.07734303439065883,
          -0.1460441626288796,
          -0.25375147674254805,
          -0.196490236859994,
          -0.07767146296147218,
          -0.028412126109289892,
          -0.040638002424123486,
          -0.3913052493574993,
          -0.20040155449153355,
          -0.15668123835378403,
          0.03136429825444025,
          -0.07913318733875319,
          -0.14540739647848544,
          -0.18875168381441726,
          -0.18110260336015158,
          -0.03682333166953144,
          -0.21316176981393933,
          0.012872111951677822,
          -0.5190892180813961,
          -0.08675099209175961,
          -0.10515472979180562,
          -0.05860641820541963,
          -0.037998149265104024,
          -0.4566239090786873,
          -0.4215219174255089,
          -0.018314679160625923,
          -0.0223911382334873,
          -0.23684253909601766,
          -0.10702701243056091,
          0.11871683009610542,
          -0.06877587302437203,
          -0.2547651598636972,
          0.009898979704113733,
          -0.026251075575107162,
          -0.028565615035037732,
          -0.1126617897485411,
          -0.06848976131423819,
          -0.1512237800829539,
          -0.008758698556828766,
          -0.07133474252285496,
          -0.1561349195643197,
          0.000831921292920681,
          -0.03436367725289508
         ],
         "y": [
          1.0345932678858016,
          0.28336533729231944,
          0.6209985800164394,
          -0.5593780068648962,
          -0.6319217808693027,
          -1.2650497038474051,
          -0.05015855752547478,
          1.0406836168865792,
          -1.0820998883615967,
          -0.3066584014672303,
          -0.4074722856950174,
          -0.34675766247342094,
          -0.5849090923824147,
          -0.23408907221515982,
          1.7470723284976757,
          -0.8061914335286181,
          -0.3434221130965074,
          -1.0480098382404601,
          -0.5593778788695469,
          -0.6128637437449199,
          -0.7915845872893473,
          0.46570309151837924,
          -0.7596464214381377,
          0.8478686643769288,
          0.2937882412575348,
          -0.2621838404195618,
          -0.24987812355399597,
          0.5487852029221915,
          3.9547962497596454,
          1.097567138160846,
          -0.2706822005770825,
          0.24372299793996302,
          2.7925169458132606,
          -1.430833561387817,
          -0.5853145021683325,
          0.4633317107880592,
          0.582019948291854,
          0.5190018315298862,
          -0.5332946261443166,
          -0.6246585913534882,
          1.154940453239147,
          0.3572414773354062,
          -0.6621105083436133,
          -0.006484581686103218,
          -1.0870496998821981,
          1.544433014206948,
          0.5783206506405941,
          0.6219540075816088,
          1.6918073440178696,
          -0.5148195896779754,
          -1.73635434547439,
          -0.3005941446928286,
          -0.34161459463127597,
          -0.9871619044742428,
          1.0766979715331682,
          -0.6674531017001349,
          1.4948261296132106,
          0.20313480670813666,
          -1.3155041081059444,
          -0.7112554447390098,
          -0.90774959904894,
          1.1552811783907713,
          -0.7425677672835245,
          -1.3254171186716301,
          -0.5316768964290164,
          -0.26694850342738924,
          -1.0809822788805468,
          -0.9344281009293178,
          -0.37417007047578316,
          0.3835516998719716,
          0.6937026247192074,
          0.727666960523272,
          -0.7015589988933637,
          -0.6444108692631068,
          1.1637164247103002,
          -0.5406490917667399,
          -0.8403680776207992,
          -1.1866801893985754,
          -0.9415720838858616,
          -0.1563363312957429,
          -1.3619664561580542,
          1.6295127165932821,
          -0.8256264983367817,
          -0.5045695838288989,
          -0.6636942626832092,
          -0.11799490494771585,
          0.40913117031291607,
          -0.5350370398803731,
          -0.6174199917598591,
          0.31300362236305745,
          0.582551001085707,
          2.850707050522183,
          0.4093392863757703,
          2.4592549584527323,
          -0.29145509613870574,
          -0.9355082579792812,
          0.8128128825995139,
          0.2746567496181662,
          -0.1832018438880726,
          -0.5556985182370864,
          0.9423334277834744,
          -1.090374824610819,
          0.9598348545795948,
          0.4633982586525955,
          -0.829640755183072,
          0.577937256552991,
          0.2969788163030898
         ],
         "z": [
          -0.3122063965952746,
          -0.0837964757534951,
          0.0034775018375084008,
          -0.35830305030859083,
          -0.48955455730926156,
          -0.06585169489310617,
          -0.39894029557108845,
          -0.2629479801254094,
          -0.43501587400485353,
          -0.43646237937787413,
          -0.3745182403708072,
          0.7580883587515287,
          -0.38483369162042813,
          0.12694119870641274,
          2.547992246957412,
          -0.41214659708796786,
          -0.22154331048307563,
          -0.43477133820982705,
          1.7433566712435784,
          -0.4836734946992368,
          0.827963175042856,
          -0.1226824062446175,
          -0.4493066945205792,
          -0.2726539021140515,
          -0.2927448019729914,
          -0.4021632569649891,
          -0.4184848709859011,
          -0.2785115987600321,
          0.01165659906008208,
          -0.26662723869899224,
          -0.40433949661447416,
          -0.4493061746387328,
          -0.20421176430196927,
          1.2596799170484798,
          -0.23054512881037287,
          -0.29095664798579834,
          -0.19257464417515366,
          -0.3120296404315114,
          -0.19408808775253858,
          -0.4213196551963041,
          -0.30516757221228397,
          -0.30090906859808675,
          -0.4433239684007319,
          -0.37953986612548074,
          0.05807327031410151,
          -0.07411955455376273,
          -0.2788614760564346,
          0.24822800622943608,
          -0.10722760126598042,
          -0.18485539247644306,
          8.317824266741397,
          -0.28359022400551076,
          -0.3725539599611455,
          0.15062594662623452,
          -0.08753834545872935,
          1.3718275490813596,
          -0.04308063966608948,
          -0.440573406190115,
          -0.3120254633351318,
          -0.3398894966239892,
          -0.3853310205407915,
          -0.15381304699040665,
          0.016837063132098262,
          0.7151903095575892,
          -0.4408111403795098,
          -0.3300455592270876,
          0.30168960316801235,
          -0.11671123253308205,
          -0.41597291771909756,
          -0.18030089222906462,
          0.025183937597713046,
          2.7130205261199114,
          0.17213217373338888,
          -0.3098515598790593,
          -0.10497043147296077,
          -0.33390629287910945,
          -0.2926553892810352,
          -0.39863354305533016,
          -0.3904212599857439,
          0.045707490197271945,
          -0.4799282748776875,
          -0.1019517642343153,
          -0.2579390164820344,
          -0.41856093422526325,
          -0.38110971719576936,
          0.023316168364199953,
          -0.014050340513706659,
          -0.28339646885400155,
          -0.37755084882494544,
          -0.3598457328737612,
          -0.11100587714797737,
          2.6783795882357837,
          -0.1927189614185277,
          -0.006213143256903769,
          -0.3405645840814081,
          -0.4170042176426728,
          -0.3319691921971059,
          -0.275104010924082,
          -0.4421410418790489,
          -0.2193229811327993,
          0.13170091486085034,
          -0.4403604306123641,
          -0.11636346569194053,
          0.1768142696478021,
          -0.12422022158847576,
          -0.30762867279367523,
          -0.2629651461250414
         ]
        }
       ],
       "layout": {
        "hovermode": "closest",
        "legend": {
         "tracegroupgap": 0
        },
        "margin": {
         "t": 60
        },
        "scene": {
         "domain": {
          "x": [
           0,
           1
          ],
          "y": [
           0,
           1
          ]
         },
         "xaxis": {
          "title": {
           "text": "Component_1"
          }
         },
         "yaxis": {
          "title": {
           "text": "Component_2"
          }
         },
         "zaxis": {
          "title": {
           "text": "Component_3"
          }
         }
        },
        "template": {
         "data": {
          "bar": [
           {
            "error_x": {
             "color": "#2a3f5f"
            },
            "error_y": {
             "color": "#2a3f5f"
            },
            "marker": {
             "line": {
              "color": "#E5ECF6",
              "width": 0.5
             },
             "pattern": {
              "fillmode": "overlay",
              "size": 10,
              "solidity": 0.2
             }
            },
            "type": "bar"
           }
          ],
          "barpolar": [
           {
            "marker": {
             "line": {
              "color": "#E5ECF6",
              "width": 0.5
             },
             "pattern": {
              "fillmode": "overlay",
              "size": 10,
              "solidity": 0.2
             }
            },
            "type": "barpolar"
           }
          ],
          "carpet": [
           {
            "aaxis": {
             "endlinecolor": "#2a3f5f",
             "gridcolor": "white",
             "linecolor": "white",
             "minorgridcolor": "white",
             "startlinecolor": "#2a3f5f"
            },
            "baxis": {
             "endlinecolor": "#2a3f5f",
             "gridcolor": "white",
             "linecolor": "white",
             "minorgridcolor": "white",
             "startlinecolor": "#2a3f5f"
            },
            "type": "carpet"
           }
          ],
          "choropleth": [
           {
            "colorbar": {
             "outlinewidth": 0,
             "ticks": ""
            },
            "type": "choropleth"
           }
          ],
          "contour": [
           {
            "colorbar": {
             "outlinewidth": 0,
             "ticks": ""
            },
            "colorscale": [
             [
              0,
              "#0d0887"
             ],
             [
              0.1111111111111111,
              "#46039f"
             ],
             [
              0.2222222222222222,
              "#7201a8"
             ],
             [
              0.3333333333333333,
              "#9c179e"
             ],
             [
              0.4444444444444444,
              "#bd3786"
             ],
             [
              0.5555555555555556,
              "#d8576b"
             ],
             [
              0.6666666666666666,
              "#ed7953"
             ],
             [
              0.7777777777777778,
              "#fb9f3a"
             ],
             [
              0.8888888888888888,
              "#fdca26"
             ],
             [
              1,
              "#f0f921"
             ]
            ],
            "type": "contour"
           }
          ],
          "contourcarpet": [
           {
            "colorbar": {
             "outlinewidth": 0,
             "ticks": ""
            },
            "type": "contourcarpet"
           }
          ],
          "heatmap": [
           {
            "colorbar": {
             "outlinewidth": 0,
             "ticks": ""
            },
            "colorscale": [
             [
              0,
              "#0d0887"
             ],
             [
              0.1111111111111111,
              "#46039f"
             ],
             [
              0.2222222222222222,
              "#7201a8"
             ],
             [
              0.3333333333333333,
              "#9c179e"
             ],
             [
              0.4444444444444444,
              "#bd3786"
             ],
             [
              0.5555555555555556,
              "#d8576b"
             ],
             [
              0.6666666666666666,
              "#ed7953"
             ],
             [
              0.7777777777777778,
              "#fb9f3a"
             ],
             [
              0.8888888888888888,
              "#fdca26"
             ],
             [
              1,
              "#f0f921"
             ]
            ],
            "type": "heatmap"
           }
          ],
          "heatmapgl": [
           {
            "colorbar": {
             "outlinewidth": 0,
             "ticks": ""
            },
            "colorscale": [
             [
              0,
              "#0d0887"
             ],
             [
              0.1111111111111111,
              "#46039f"
             ],
             [
              0.2222222222222222,
              "#7201a8"
             ],
             [
              0.3333333333333333,
              "#9c179e"
             ],
             [
              0.4444444444444444,
              "#bd3786"
             ],
             [
              0.5555555555555556,
              "#d8576b"
             ],
             [
              0.6666666666666666,
              "#ed7953"
             ],
             [
              0.7777777777777778,
              "#fb9f3a"
             ],
             [
              0.8888888888888888,
              "#fdca26"
             ],
             [
              1,
              "#f0f921"
             ]
            ],
            "type": "heatmapgl"
           }
          ],
          "histogram": [
           {
            "marker": {
             "pattern": {
              "fillmode": "overlay",
              "size": 10,
              "solidity": 0.2
             }
            },
            "type": "histogram"
           }
          ],
          "histogram2d": [
           {
            "colorbar": {
             "outlinewidth": 0,
             "ticks": ""
            },
            "colorscale": [
             [
              0,
              "#0d0887"
             ],
             [
              0.1111111111111111,
              "#46039f"
             ],
             [
              0.2222222222222222,
              "#7201a8"
             ],
             [
              0.3333333333333333,
              "#9c179e"
             ],
             [
              0.4444444444444444,
              "#bd3786"
             ],
             [
              0.5555555555555556,
              "#d8576b"
             ],
             [
              0.6666666666666666,
              "#ed7953"
             ],
             [
              0.7777777777777778,
              "#fb9f3a"
             ],
             [
              0.8888888888888888,
              "#fdca26"
             ],
             [
              1,
              "#f0f921"
             ]
            ],
            "type": "histogram2d"
           }
          ],
          "histogram2dcontour": [
           {
            "colorbar": {
             "outlinewidth": 0,
             "ticks": ""
            },
            "colorscale": [
             [
              0,
              "#0d0887"
             ],
             [
              0.1111111111111111,
              "#46039f"
             ],
             [
              0.2222222222222222,
              "#7201a8"
             ],
             [
              0.3333333333333333,
              "#9c179e"
             ],
             [
              0.4444444444444444,
              "#bd3786"
             ],
             [
              0.5555555555555556,
              "#d8576b"
             ],
             [
              0.6666666666666666,
              "#ed7953"
             ],
             [
              0.7777777777777778,
              "#fb9f3a"
             ],
             [
              0.8888888888888888,
              "#fdca26"
             ],
             [
              1,
              "#f0f921"
             ]
            ],
            "type": "histogram2dcontour"
           }
          ],
          "mesh3d": [
           {
            "colorbar": {
             "outlinewidth": 0,
             "ticks": ""
            },
            "type": "mesh3d"
           }
          ],
          "parcoords": [
           {
            "line": {
             "colorbar": {
              "outlinewidth": 0,
              "ticks": ""
             }
            },
            "type": "parcoords"
           }
          ],
          "pie": [
           {
            "automargin": true,
            "type": "pie"
           }
          ],
          "scatter": [
           {
            "fillpattern": {
             "fillmode": "overlay",
             "size": 10,
             "solidity": 0.2
            },
            "type": "scatter"
           }
          ],
          "scatter3d": [
           {
            "line": {
             "colorbar": {
              "outlinewidth": 0,
              "ticks": ""
             }
            },
            "marker": {
             "colorbar": {
              "outlinewidth": 0,
              "ticks": ""
             }
            },
            "type": "scatter3d"
           }
          ],
          "scattercarpet": [
           {
            "marker": {
             "colorbar": {
              "outlinewidth": 0,
              "ticks": ""
             }
            },
            "type": "scattercarpet"
           }
          ],
          "scattergeo": [
           {
            "marker": {
             "colorbar": {
              "outlinewidth": 0,
              "ticks": ""
             }
            },
            "type": "scattergeo"
           }
          ],
          "scattergl": [
           {
            "marker": {
             "colorbar": {
              "outlinewidth": 0,
              "ticks": ""
             }
            },
            "type": "scattergl"
           }
          ],
          "scattermapbox": [
           {
            "marker": {
             "colorbar": {
              "outlinewidth": 0,
              "ticks": ""
             }
            },
            "type": "scattermapbox"
           }
          ],
          "scatterpolar": [
           {
            "marker": {
             "colorbar": {
              "outlinewidth": 0,
              "ticks": ""
             }
            },
            "type": "scatterpolar"
           }
          ],
          "scatterpolargl": [
           {
            "marker": {
             "colorbar": {
              "outlinewidth": 0,
              "ticks": ""
             }
            },
            "type": "scatterpolargl"
           }
          ],
          "scatterternary": [
           {
            "marker": {
             "colorbar": {
              "outlinewidth": 0,
              "ticks": ""
             }
            },
            "type": "scatterternary"
           }
          ],
          "surface": [
           {
            "colorbar": {
             "outlinewidth": 0,
             "ticks": ""
            },
            "colorscale": [
             [
              0,
              "#0d0887"
             ],
             [
              0.1111111111111111,
              "#46039f"
             ],
             [
              0.2222222222222222,
              "#7201a8"
             ],
             [
              0.3333333333333333,
              "#9c179e"
             ],
             [
              0.4444444444444444,
              "#bd3786"
             ],
             [
              0.5555555555555556,
              "#d8576b"
             ],
             [
              0.6666666666666666,
              "#ed7953"
             ],
             [
              0.7777777777777778,
              "#fb9f3a"
             ],
             [
              0.8888888888888888,
              "#fdca26"
             ],
             [
              1,
              "#f0f921"
             ]
            ],
            "type": "surface"
           }
          ],
          "table": [
           {
            "cells": {
             "fill": {
              "color": "#EBF0F8"
             },
             "line": {
              "color": "white"
             }
            },
            "header": {
             "fill": {
              "color": "#C8D4E3"
             },
             "line": {
              "color": "white"
             }
            },
            "type": "table"
           }
          ]
         },
         "layout": {
          "annotationdefaults": {
           "arrowcolor": "#2a3f5f",
           "arrowhead": 0,
           "arrowwidth": 1
          },
          "autotypenumbers": "strict",
          "coloraxis": {
           "colorbar": {
            "outlinewidth": 0,
            "ticks": ""
           }
          },
          "colorscale": {
           "diverging": [
            [
             0,
             "#8e0152"
            ],
            [
             0.1,
             "#c51b7d"
            ],
            [
             0.2,
             "#de77ae"
            ],
            [
             0.3,
             "#f1b6da"
            ],
            [
             0.4,
             "#fde0ef"
            ],
            [
             0.5,
             "#f7f7f7"
            ],
            [
             0.6,
             "#e6f5d0"
            ],
            [
             0.7,
             "#b8e186"
            ],
            [
             0.8,
             "#7fbc41"
            ],
            [
             0.9,
             "#4d9221"
            ],
            [
             1,
             "#276419"
            ]
           ],
           "sequential": [
            [
             0,
             "#0d0887"
            ],
            [
             0.1111111111111111,
             "#46039f"
            ],
            [
             0.2222222222222222,
             "#7201a8"
            ],
            [
             0.3333333333333333,
             "#9c179e"
            ],
            [
             0.4444444444444444,
             "#bd3786"
            ],
            [
             0.5555555555555556,
             "#d8576b"
            ],
            [
             0.6666666666666666,
             "#ed7953"
            ],
            [
             0.7777777777777778,
             "#fb9f3a"
            ],
            [
             0.8888888888888888,
             "#fdca26"
            ],
            [
             1,
             "#f0f921"
            ]
           ],
           "sequentialminus": [
            [
             0,
             "#0d0887"
            ],
            [
             0.1111111111111111,
             "#46039f"
            ],
            [
             0.2222222222222222,
             "#7201a8"
            ],
            [
             0.3333333333333333,
             "#9c179e"
            ],
            [
             0.4444444444444444,
             "#bd3786"
            ],
            [
             0.5555555555555556,
             "#d8576b"
            ],
            [
             0.6666666666666666,
             "#ed7953"
            ],
            [
             0.7777777777777778,
             "#fb9f3a"
            ],
            [
             0.8888888888888888,
             "#fdca26"
            ],
            [
             1,
             "#f0f921"
            ]
           ]
          },
          "colorway": [
           "#636efa",
           "#EF553B",
           "#00cc96",
           "#ab63fa",
           "#FFA15A",
           "#19d3f3",
           "#FF6692",
           "#B6E880",
           "#FF97FF",
           "#FECB52"
          ],
          "font": {
           "color": "#2a3f5f"
          },
          "geo": {
           "bgcolor": "white",
           "lakecolor": "white",
           "landcolor": "#E5ECF6",
           "showlakes": true,
           "showland": true,
           "subunitcolor": "white"
          },
          "hoverlabel": {
           "align": "left"
          },
          "hovermode": "closest",
          "mapbox": {
           "style": "light"
          },
          "paper_bgcolor": "white",
          "plot_bgcolor": "#E5ECF6",
          "polar": {
           "angularaxis": {
            "gridcolor": "white",
            "linecolor": "white",
            "ticks": ""
           },
           "bgcolor": "#E5ECF6",
           "radialaxis": {
            "gridcolor": "white",
            "linecolor": "white",
            "ticks": ""
           }
          },
          "scene": {
           "xaxis": {
            "backgroundcolor": "#E5ECF6",
            "gridcolor": "white",
            "gridwidth": 2,
            "linecolor": "white",
            "showbackground": true,
            "ticks": "",
            "zerolinecolor": "white"
           },
           "yaxis": {
            "backgroundcolor": "#E5ECF6",
            "gridcolor": "white",
            "gridwidth": 2,
            "linecolor": "white",
            "showbackground": true,
            "ticks": "",
            "zerolinecolor": "white"
           },
           "zaxis": {
            "backgroundcolor": "#E5ECF6",
            "gridcolor": "white",
            "gridwidth": 2,
            "linecolor": "white",
            "showbackground": true,
            "ticks": "",
            "zerolinecolor": "white"
           }
          },
          "shapedefaults": {
           "line": {
            "color": "#2a3f5f"
           }
          },
          "ternary": {
           "aaxis": {
            "gridcolor": "white",
            "linecolor": "white",
            "ticks": ""
           },
           "baxis": {
            "gridcolor": "white",
            "linecolor": "white",
            "ticks": ""
           },
           "bgcolor": "#E5ECF6",
           "caxis": {
            "gridcolor": "white",
            "linecolor": "white",
            "ticks": ""
           }
          },
          "title": {
           "x": 0.05
          },
          "xaxis": {
           "automargin": true,
           "gridcolor": "white",
           "linecolor": "white",
           "ticks": "",
           "title": {
            "standoff": 15
           },
           "zerolinecolor": "white",
           "zerolinewidth": 2
          },
          "yaxis": {
           "automargin": true,
           "gridcolor": "white",
           "linecolor": "white",
           "ticks": "",
           "title": {
            "standoff": 15
           },
           "zerolinecolor": "white",
           "zerolinewidth": 2
          }
         }
        },
        "title": {
         "text": "Fator 1 - Fator 2 - Fator 3 "
        }
       }
      }
     },
     "metadata": {},
     "output_type": "display_data"
    }
   ],
   "source": [
    "import plotly.express as px\n",
    "\n",
    "fig = px.scatter_3d(df_with_scores, x='Component_1', y='Component_2', z='Component_3')\n",
    "\n",
    "fig.update_layout(\n",
    "    title=\"Fator 1 - Fator 2 - Fator 3 \",\n",
    "    scene = dict(\n",
    "        xaxis_title='Component_1',\n",
    "        yaxis_title='Component_2',\n",
    "        zaxis_title='Component_3'\n",
    "    ),\n",
    "    hovermode=\"closest\"\n",
    ")\n",
    "\n",
    "fig.show()"
   ]
  },
  {
   "cell_type": "code",
   "execution_count": 28,
   "metadata": {},
   "outputs": [
    {
     "name": "stderr",
     "output_type": "stream",
     "text": [
      "c:\\Users\\surze\\anaconda3\\Lib\\site-packages\\sklearn\\cluster\\_kmeans.py:1382: UserWarning:\n",
      "\n",
      "KMeans is known to have a memory leak on Windows with MKL, when there are less chunks than available threads. You can avoid it by setting the environment variable OMP_NUM_THREADS=1.\n",
      "\n"
     ]
    },
    {
     "name": "stdout",
     "output_type": "stream",
     "text": [
      "      ICOM      ICAP      IEND      IDAD      ILPG      PRPL      IALI  \\\n",
      "0    0.885  0.306386  2.025536  0.172808  0.165306  4.509626  7.318553   \n",
      "1    1.073  0.300834  1.101956  0.198677  0.044460  1.989418  4.860906   \n",
      "2    1.125  0.254535  1.037175  0.246123  0.011870  2.394771  5.930802   \n",
      "3    0.948  0.521968  0.896237  0.183934  0.174146  0.806294  2.123237   \n",
      "4    1.352  0.562166  0.765987  0.221288 -0.367685  1.535641  2.026337   \n",
      "..     ...       ...       ...       ...       ...       ...       ...   \n",
      "102  1.103  0.245926  1.447959  0.144784  0.002681  3.488163  7.052654   \n",
      "103  1.083  0.247044  0.801223  0.199815 -0.016425  2.190051  5.554200   \n",
      "104  1.031  0.663826  0.474723  0.230042  0.652687  0.319321  1.694640   \n",
      "105  1.031  0.272816  1.702620  0.183363  0.089709  3.022077  5.592733   \n",
      "106  1.163  0.314739  1.217548  0.378831 -0.079287  2.014600  4.684582   \n",
      "\n",
      "         ILCO      ILGE  Component_1  Component_2  Component_3  Cluster  \n",
      "0    1.386757  1.444756     0.009323     1.034593    -0.312206        0  \n",
      "1    3.478202  2.714289    -0.049417     0.283365    -0.083796        0  \n",
      "2    3.965970  3.572469    -0.038896     0.620999     0.003478        0  \n",
      "3    1.617178  1.890499    -0.092292    -0.559378    -0.358303        0  \n",
      "4    0.644027  0.883976    -0.126598    -0.631922    -0.489555        0  \n",
      "..        ...       ...          ...          ...          ...      ...  \n",
      "102  2.999393  2.597541    -0.008759     0.959835    -0.116363        0  \n",
      "103  5.127527  4.457865    -0.071335     0.463398     0.176814        0  \n",
      "104  3.079899  3.130736    -0.156135    -0.829641    -0.124220        0  \n",
      "105  1.751371  1.758143     0.000832     0.577937    -0.307629        0  \n",
      "106  2.212862  2.334214    -0.034364     0.296979    -0.262965        0  \n",
      "\n",
      "[107 rows x 13 columns]\n"
     ]
    }
   ],
   "source": [
    "from sklearn.cluster import KMeans\n",
    "\n",
    "# Select the component columns\n",
    "X = df_with_scores[['Component_1', 'Component_2', 'Component_3']]\n",
    "\n",
    "# Create a KMeans instance with the desired number of clusters\n",
    "kmeans = KMeans(n_clusters=3)\n",
    "\n",
    "# Fit the model to the data and predict the cluster labels\n",
    "df_with_scores['Cluster'] = kmeans.fit_predict(X)\n",
    "\n",
    "# Print the DataFrame with the cluster labels\n",
    "print(df_with_scores)"
   ]
  },
  {
   "cell_type": "code",
   "execution_count": 29,
   "metadata": {},
   "outputs": [
    {
     "name": "stdout",
     "output_type": "stream",
     "text": [
      "               ICOM      ICAP      IEND       IDAD        ILPG      PRPL  \\\n",
      "Cluster                                                                    \n",
      "0          2.241933  0.413999  1.142421   1.030876    0.990487  1.764067   \n",
      "1        549.670000  0.961683  0.039219  96.573270  478.956800  0.000777   \n",
      "2          8.292000  0.263052  0.053263   6.772403    4.627254  0.011242   \n",
      "\n",
      "             IALI       ILCO      ILGE  Cluster  \n",
      "Cluster                                          \n",
      "0        4.100655   3.234579   3.07934      0.0  \n",
      "1        1.030882  26.271790  26.26527      1.0  \n",
      "2        2.876380  53.847480  53.82928      2.0  \n"
     ]
    }
   ],
   "source": [
    "# Exclude the component columns\n",
    "columns_to_exclude = ['Component_1', 'Component_2', 'Component_3']\n",
    "columns = [col for col in df_with_scores.columns if col not in columns_to_exclude]\n",
    "\n",
    "# Group by 'Cluster' and calculate the mean\n",
    "cluster_description = df_with_scores.groupby('Cluster')[columns].mean()\n",
    "\n",
    "print(cluster_description)"
   ]
  },
  {
   "cell_type": "code",
   "execution_count": 31,
   "metadata": {},
   "outputs": [
    {
     "name": "stdout",
     "output_type": "stream",
     "text": [
      "For column ICOM, F-value is 4116.973789154761 and p-value is 9.78717392328977e-100\n",
      "For column ICAP, F-value is 4.343333800038116 and p-value is 0.0154298523792198\n",
      "For column IEND, F-value is 1.2714695637812992 and p-value is 0.2847414138302708\n",
      "For column IDAD, F-value is 201.95741409456787 and p-value is 1.5297035131083063e-36\n",
      "For column ILPG, F-value is 1188.5672213694588 and p-value is 2.311629185051991e-72\n",
      "For column PRPL, F-value is 1.2653187649511635 and p-value is 0.2864562410868156\n",
      "For column IALI, F-value is 0.5611494389189223 and p-value is 0.5722706296492204\n",
      "For column ILCO, F-value is 105.62504081242109 and p-value is 9.029482143775494e-26\n",
      "For column ILGE, F-value is 137.3378431635762 and p-value is 6.543765685804419e-30\n",
      "For column Cluster, F-value is inf and p-value is 0.0\n"
     ]
    },
    {
     "name": "stderr",
     "output_type": "stream",
     "text": [
      "c:\\Users\\surze\\anaconda3\\Lib\\site-packages\\scipy\\stats\\_stats_py.py:4167: ConstantInputWarning:\n",
      "\n",
      "Each of the input arrays is constant;the F statistic is not defined or infinite\n",
      "\n"
     ]
    }
   ],
   "source": [
    "from scipy.stats import f_oneway\n",
    "\n",
    "# Perform an ANOVA test for each column\n",
    "for col in columns:\n",
    "    groups = [group[col].values for name, group in df_with_scores.groupby('Cluster')]\n",
    "    f_val, p_val = f_oneway(*groups)\n",
    "    print(f\"For column {col}, F-value is {f_val} and p-value is {p_val}\")"
   ]
  },
  {
   "cell_type": "markdown",
   "metadata": {},
   "source": [
    "Para as colunas \"ICOM\", \"IDAD\", \"ILPG\", \"ILCO\" e \"ILGE\", os valores de p são extremamente pequenos (inferiores a 0,05), o que sugere que existem diferenças estatisticamente significativas entre as médias dos grupos para estas colunas. Os valores de F são também bastante elevados, o que indica uma grande variância entre os grupos em comparação com a variância dentro dos grupos.\n",
    "\n",
    "Para as colunas \"ICAP\", o valor de p é ligeiramente superior a 0,01, o que sugere que existem diferenças estatisticamente significativas entre as médias dos grupos para esta coluna, mas a evidência não é tão forte como para as outras colunas acima mencionadas. O valor F também é menor, o que indica uma variância menor entre os grupos em comparação com a variância dentro dos grupos.\n",
    "\n",
    "Para as colunas \"IEND\", \"PRPL\" e \"IALI\", os valores de p são superiores a 0,05, o que sugere que não existem diferenças estatisticamente significativas entre as médias dos grupos para estas colunas. Os valores de F também são bastante pequenos, o que indica uma pequena variância entre os grupos em comparação com a variância dentro dos grupos.\n"
   ]
  },
  {
   "cell_type": "code",
   "execution_count": 30,
   "metadata": {},
   "outputs": [
    {
     "data": {
      "text/html": [
       "<div>\n",
       "<style scoped>\n",
       "    .dataframe tbody tr th:only-of-type {\n",
       "        vertical-align: middle;\n",
       "    }\n",
       "\n",
       "    .dataframe tbody tr th {\n",
       "        vertical-align: top;\n",
       "    }\n",
       "\n",
       "    .dataframe thead th {\n",
       "        text-align: right;\n",
       "    }\n",
       "</style>\n",
       "<table border=\"1\" class=\"dataframe\">\n",
       "  <thead>\n",
       "    <tr style=\"text-align: right;\">\n",
       "      <th></th>\n",
       "      <th>ICOM</th>\n",
       "      <th>ICAP</th>\n",
       "      <th>IEND</th>\n",
       "      <th>IDAD</th>\n",
       "      <th>ILPG</th>\n",
       "      <th>PRPL</th>\n",
       "      <th>IALI</th>\n",
       "      <th>ILCO</th>\n",
       "      <th>ILGE</th>\n",
       "      <th>Cluster</th>\n",
       "    </tr>\n",
       "    <tr>\n",
       "      <th>Cluster</th>\n",
       "      <th></th>\n",
       "      <th></th>\n",
       "      <th></th>\n",
       "      <th></th>\n",
       "      <th></th>\n",
       "      <th></th>\n",
       "      <th></th>\n",
       "      <th></th>\n",
       "      <th></th>\n",
       "      <th></th>\n",
       "    </tr>\n",
       "  </thead>\n",
       "  <tbody>\n",
       "    <tr>\n",
       "      <th>0</th>\n",
       "      <td>2.241933</td>\n",
       "      <td>0.413999</td>\n",
       "      <td>1.142421</td>\n",
       "      <td>1.030876</td>\n",
       "      <td>0.990487</td>\n",
       "      <td>1.764067</td>\n",
       "      <td>4.100655</td>\n",
       "      <td>3.234579</td>\n",
       "      <td>3.07934</td>\n",
       "      <td>0.0</td>\n",
       "    </tr>\n",
       "    <tr>\n",
       "      <th>1</th>\n",
       "      <td>549.670000</td>\n",
       "      <td>0.961683</td>\n",
       "      <td>0.039219</td>\n",
       "      <td>96.573270</td>\n",
       "      <td>478.956800</td>\n",
       "      <td>0.000777</td>\n",
       "      <td>1.030882</td>\n",
       "      <td>26.271790</td>\n",
       "      <td>26.26527</td>\n",
       "      <td>1.0</td>\n",
       "    </tr>\n",
       "    <tr>\n",
       "      <th>2</th>\n",
       "      <td>8.292000</td>\n",
       "      <td>0.263052</td>\n",
       "      <td>0.053263</td>\n",
       "      <td>6.772403</td>\n",
       "      <td>4.627254</td>\n",
       "      <td>0.011242</td>\n",
       "      <td>2.876380</td>\n",
       "      <td>53.847480</td>\n",
       "      <td>53.82928</td>\n",
       "      <td>2.0</td>\n",
       "    </tr>\n",
       "  </tbody>\n",
       "</table>\n",
       "</div>"
      ],
      "text/plain": [
       "               ICOM      ICAP      IEND       IDAD        ILPG      PRPL  \\\n",
       "Cluster                                                                    \n",
       "0          2.241933  0.413999  1.142421   1.030876    0.990487  1.764067   \n",
       "1        549.670000  0.961683  0.039219  96.573270  478.956800  0.000777   \n",
       "2          8.292000  0.263052  0.053263   6.772403    4.627254  0.011242   \n",
       "\n",
       "             IALI       ILCO      ILGE  Cluster  \n",
       "Cluster                                          \n",
       "0        4.100655   3.234579   3.07934      0.0  \n",
       "1        1.030882  26.271790  26.26527      1.0  \n",
       "2        2.876380  53.847480  53.82928      2.0  "
      ]
     },
     "execution_count": 30,
     "metadata": {},
     "output_type": "execute_result"
    }
   ],
   "source": [
    "cluster_description"
   ]
  },
  {
   "cell_type": "code",
   "execution_count": 33,
   "metadata": {},
   "outputs": [
    {
     "name": "stdout",
     "output_type": "stream",
     "text": [
      "<class 'pandas.core.frame.DataFrame'>\n",
      "Index: 3 entries, 0 to 2\n",
      "Data columns (total 10 columns):\n",
      " #   Column   Non-Null Count  Dtype  \n",
      "---  ------   --------------  -----  \n",
      " 0   ICOM     3 non-null      float64\n",
      " 1   ICAP     3 non-null      float64\n",
      " 2   IEND     3 non-null      float64\n",
      " 3   IDAD     3 non-null      float64\n",
      " 4   ILPG     3 non-null      float64\n",
      " 5   PRPL     3 non-null      float64\n",
      " 6   IALI     3 non-null      float64\n",
      " 7   ILCO     3 non-null      float64\n",
      " 8   ILGE     3 non-null      float64\n",
      " 9   Cluster  3 non-null      float64\n",
      "dtypes: float64(10)\n",
      "memory usage: 252.0 bytes\n"
     ]
    }
   ],
   "source": [
    "cluster_description.info()"
   ]
  },
  {
   "cell_type": "code",
   "execution_count": 35,
   "metadata": {},
   "outputs": [
    {
     "data": {
      "application/vnd.plotly.v1+json": {
       "config": {
        "plotlyServerURL": "https://plot.ly"
       },
       "data": [
        {
         "hovertemplate": "Variable=%{x}<br>Value=%{y}<br>Cluster=%{marker.color}<extra></extra>",
         "legendgroup": "",
         "marker": {
          "color": [
           0,
           1,
           2,
           0,
           1,
           2,
           0,
           1,
           2,
           0,
           1,
           2,
           0,
           1,
           2,
           0,
           1,
           2,
           0,
           1,
           2,
           0,
           1,
           2,
           0,
           1,
           2
          ],
          "coloraxis": "coloraxis",
          "symbol": "circle"
         },
         "mode": "markers",
         "name": "",
         "orientation": "v",
         "showlegend": false,
         "type": "scatter",
         "x": [
          "ICOM",
          "ICOM",
          "ICOM",
          "ICAP",
          "ICAP",
          "ICAP",
          "IEND",
          "IEND",
          "IEND",
          "IDAD",
          "IDAD",
          "IDAD",
          "ILPG",
          "ILPG",
          "ILPG",
          "PRPL",
          "PRPL",
          "PRPL",
          "IALI",
          "IALI",
          "IALI",
          "ILCO",
          "ILCO",
          "ILCO",
          "ILGE",
          "ILGE",
          "ILGE"
         ],
         "xaxis": "x",
         "y": [
          2.2419333333333333,
          549.67,
          8.292,
          0.4139993647619048,
          0.9616826,
          0.2630517,
          1.1424211666666666,
          0.0392193,
          0.0532631,
          1.0308755619047618,
          96.57327,
          6.772403,
          0.9904871495238095,
          478.9568,
          4.627254,
          1.7640674304761903,
          0.0007766,
          0.011242,
          4.100655231428572,
          1.030882,
          2.87638,
          3.2345785047619047,
          26.27179,
          53.84748,
          3.0793395409523807,
          26.26527,
          53.82928
         ],
         "yaxis": "y"
        }
       ],
       "layout": {
        "coloraxis": {
         "colorbar": {
          "title": {
           "text": "Cluster"
          }
         },
         "colorscale": [
          [
           0,
           "#0d0887"
          ],
          [
           0.1111111111111111,
           "#46039f"
          ],
          [
           0.2222222222222222,
           "#7201a8"
          ],
          [
           0.3333333333333333,
           "#9c179e"
          ],
          [
           0.4444444444444444,
           "#bd3786"
          ],
          [
           0.5555555555555556,
           "#d8576b"
          ],
          [
           0.6666666666666666,
           "#ed7953"
          ],
          [
           0.7777777777777778,
           "#fb9f3a"
          ],
          [
           0.8888888888888888,
           "#fdca26"
          ],
          [
           1,
           "#f0f921"
          ]
         ]
        },
        "height": 600,
        "legend": {
         "tracegroupgap": 0
        },
        "template": {
         "data": {
          "bar": [
           {
            "error_x": {
             "color": "#2a3f5f"
            },
            "error_y": {
             "color": "#2a3f5f"
            },
            "marker": {
             "line": {
              "color": "#E5ECF6",
              "width": 0.5
             },
             "pattern": {
              "fillmode": "overlay",
              "size": 10,
              "solidity": 0.2
             }
            },
            "type": "bar"
           }
          ],
          "barpolar": [
           {
            "marker": {
             "line": {
              "color": "#E5ECF6",
              "width": 0.5
             },
             "pattern": {
              "fillmode": "overlay",
              "size": 10,
              "solidity": 0.2
             }
            },
            "type": "barpolar"
           }
          ],
          "carpet": [
           {
            "aaxis": {
             "endlinecolor": "#2a3f5f",
             "gridcolor": "white",
             "linecolor": "white",
             "minorgridcolor": "white",
             "startlinecolor": "#2a3f5f"
            },
            "baxis": {
             "endlinecolor": "#2a3f5f",
             "gridcolor": "white",
             "linecolor": "white",
             "minorgridcolor": "white",
             "startlinecolor": "#2a3f5f"
            },
            "type": "carpet"
           }
          ],
          "choropleth": [
           {
            "colorbar": {
             "outlinewidth": 0,
             "ticks": ""
            },
            "type": "choropleth"
           }
          ],
          "contour": [
           {
            "colorbar": {
             "outlinewidth": 0,
             "ticks": ""
            },
            "colorscale": [
             [
              0,
              "#0d0887"
             ],
             [
              0.1111111111111111,
              "#46039f"
             ],
             [
              0.2222222222222222,
              "#7201a8"
             ],
             [
              0.3333333333333333,
              "#9c179e"
             ],
             [
              0.4444444444444444,
              "#bd3786"
             ],
             [
              0.5555555555555556,
              "#d8576b"
             ],
             [
              0.6666666666666666,
              "#ed7953"
             ],
             [
              0.7777777777777778,
              "#fb9f3a"
             ],
             [
              0.8888888888888888,
              "#fdca26"
             ],
             [
              1,
              "#f0f921"
             ]
            ],
            "type": "contour"
           }
          ],
          "contourcarpet": [
           {
            "colorbar": {
             "outlinewidth": 0,
             "ticks": ""
            },
            "type": "contourcarpet"
           }
          ],
          "heatmap": [
           {
            "colorbar": {
             "outlinewidth": 0,
             "ticks": ""
            },
            "colorscale": [
             [
              0,
              "#0d0887"
             ],
             [
              0.1111111111111111,
              "#46039f"
             ],
             [
              0.2222222222222222,
              "#7201a8"
             ],
             [
              0.3333333333333333,
              "#9c179e"
             ],
             [
              0.4444444444444444,
              "#bd3786"
             ],
             [
              0.5555555555555556,
              "#d8576b"
             ],
             [
              0.6666666666666666,
              "#ed7953"
             ],
             [
              0.7777777777777778,
              "#fb9f3a"
             ],
             [
              0.8888888888888888,
              "#fdca26"
             ],
             [
              1,
              "#f0f921"
             ]
            ],
            "type": "heatmap"
           }
          ],
          "heatmapgl": [
           {
            "colorbar": {
             "outlinewidth": 0,
             "ticks": ""
            },
            "colorscale": [
             [
              0,
              "#0d0887"
             ],
             [
              0.1111111111111111,
              "#46039f"
             ],
             [
              0.2222222222222222,
              "#7201a8"
             ],
             [
              0.3333333333333333,
              "#9c179e"
             ],
             [
              0.4444444444444444,
              "#bd3786"
             ],
             [
              0.5555555555555556,
              "#d8576b"
             ],
             [
              0.6666666666666666,
              "#ed7953"
             ],
             [
              0.7777777777777778,
              "#fb9f3a"
             ],
             [
              0.8888888888888888,
              "#fdca26"
             ],
             [
              1,
              "#f0f921"
             ]
            ],
            "type": "heatmapgl"
           }
          ],
          "histogram": [
           {
            "marker": {
             "pattern": {
              "fillmode": "overlay",
              "size": 10,
              "solidity": 0.2
             }
            },
            "type": "histogram"
           }
          ],
          "histogram2d": [
           {
            "colorbar": {
             "outlinewidth": 0,
             "ticks": ""
            },
            "colorscale": [
             [
              0,
              "#0d0887"
             ],
             [
              0.1111111111111111,
              "#46039f"
             ],
             [
              0.2222222222222222,
              "#7201a8"
             ],
             [
              0.3333333333333333,
              "#9c179e"
             ],
             [
              0.4444444444444444,
              "#bd3786"
             ],
             [
              0.5555555555555556,
              "#d8576b"
             ],
             [
              0.6666666666666666,
              "#ed7953"
             ],
             [
              0.7777777777777778,
              "#fb9f3a"
             ],
             [
              0.8888888888888888,
              "#fdca26"
             ],
             [
              1,
              "#f0f921"
             ]
            ],
            "type": "histogram2d"
           }
          ],
          "histogram2dcontour": [
           {
            "colorbar": {
             "outlinewidth": 0,
             "ticks": ""
            },
            "colorscale": [
             [
              0,
              "#0d0887"
             ],
             [
              0.1111111111111111,
              "#46039f"
             ],
             [
              0.2222222222222222,
              "#7201a8"
             ],
             [
              0.3333333333333333,
              "#9c179e"
             ],
             [
              0.4444444444444444,
              "#bd3786"
             ],
             [
              0.5555555555555556,
              "#d8576b"
             ],
             [
              0.6666666666666666,
              "#ed7953"
             ],
             [
              0.7777777777777778,
              "#fb9f3a"
             ],
             [
              0.8888888888888888,
              "#fdca26"
             ],
             [
              1,
              "#f0f921"
             ]
            ],
            "type": "histogram2dcontour"
           }
          ],
          "mesh3d": [
           {
            "colorbar": {
             "outlinewidth": 0,
             "ticks": ""
            },
            "type": "mesh3d"
           }
          ],
          "parcoords": [
           {
            "line": {
             "colorbar": {
              "outlinewidth": 0,
              "ticks": ""
             }
            },
            "type": "parcoords"
           }
          ],
          "pie": [
           {
            "automargin": true,
            "type": "pie"
           }
          ],
          "scatter": [
           {
            "fillpattern": {
             "fillmode": "overlay",
             "size": 10,
             "solidity": 0.2
            },
            "type": "scatter"
           }
          ],
          "scatter3d": [
           {
            "line": {
             "colorbar": {
              "outlinewidth": 0,
              "ticks": ""
             }
            },
            "marker": {
             "colorbar": {
              "outlinewidth": 0,
              "ticks": ""
             }
            },
            "type": "scatter3d"
           }
          ],
          "scattercarpet": [
           {
            "marker": {
             "colorbar": {
              "outlinewidth": 0,
              "ticks": ""
             }
            },
            "type": "scattercarpet"
           }
          ],
          "scattergeo": [
           {
            "marker": {
             "colorbar": {
              "outlinewidth": 0,
              "ticks": ""
             }
            },
            "type": "scattergeo"
           }
          ],
          "scattergl": [
           {
            "marker": {
             "colorbar": {
              "outlinewidth": 0,
              "ticks": ""
             }
            },
            "type": "scattergl"
           }
          ],
          "scattermapbox": [
           {
            "marker": {
             "colorbar": {
              "outlinewidth": 0,
              "ticks": ""
             }
            },
            "type": "scattermapbox"
           }
          ],
          "scatterpolar": [
           {
            "marker": {
             "colorbar": {
              "outlinewidth": 0,
              "ticks": ""
             }
            },
            "type": "scatterpolar"
           }
          ],
          "scatterpolargl": [
           {
            "marker": {
             "colorbar": {
              "outlinewidth": 0,
              "ticks": ""
             }
            },
            "type": "scatterpolargl"
           }
          ],
          "scatterternary": [
           {
            "marker": {
             "colorbar": {
              "outlinewidth": 0,
              "ticks": ""
             }
            },
            "type": "scatterternary"
           }
          ],
          "surface": [
           {
            "colorbar": {
             "outlinewidth": 0,
             "ticks": ""
            },
            "colorscale": [
             [
              0,
              "#0d0887"
             ],
             [
              0.1111111111111111,
              "#46039f"
             ],
             [
              0.2222222222222222,
              "#7201a8"
             ],
             [
              0.3333333333333333,
              "#9c179e"
             ],
             [
              0.4444444444444444,
              "#bd3786"
             ],
             [
              0.5555555555555556,
              "#d8576b"
             ],
             [
              0.6666666666666666,
              "#ed7953"
             ],
             [
              0.7777777777777778,
              "#fb9f3a"
             ],
             [
              0.8888888888888888,
              "#fdca26"
             ],
             [
              1,
              "#f0f921"
             ]
            ],
            "type": "surface"
           }
          ],
          "table": [
           {
            "cells": {
             "fill": {
              "color": "#EBF0F8"
             },
             "line": {
              "color": "white"
             }
            },
            "header": {
             "fill": {
              "color": "#C8D4E3"
             },
             "line": {
              "color": "white"
             }
            },
            "type": "table"
           }
          ]
         },
         "layout": {
          "annotationdefaults": {
           "arrowcolor": "#2a3f5f",
           "arrowhead": 0,
           "arrowwidth": 1
          },
          "autotypenumbers": "strict",
          "coloraxis": {
           "colorbar": {
            "outlinewidth": 0,
            "ticks": ""
           }
          },
          "colorscale": {
           "diverging": [
            [
             0,
             "#8e0152"
            ],
            [
             0.1,
             "#c51b7d"
            ],
            [
             0.2,
             "#de77ae"
            ],
            [
             0.3,
             "#f1b6da"
            ],
            [
             0.4,
             "#fde0ef"
            ],
            [
             0.5,
             "#f7f7f7"
            ],
            [
             0.6,
             "#e6f5d0"
            ],
            [
             0.7,
             "#b8e186"
            ],
            [
             0.8,
             "#7fbc41"
            ],
            [
             0.9,
             "#4d9221"
            ],
            [
             1,
             "#276419"
            ]
           ],
           "sequential": [
            [
             0,
             "#0d0887"
            ],
            [
             0.1111111111111111,
             "#46039f"
            ],
            [
             0.2222222222222222,
             "#7201a8"
            ],
            [
             0.3333333333333333,
             "#9c179e"
            ],
            [
             0.4444444444444444,
             "#bd3786"
            ],
            [
             0.5555555555555556,
             "#d8576b"
            ],
            [
             0.6666666666666666,
             "#ed7953"
            ],
            [
             0.7777777777777778,
             "#fb9f3a"
            ],
            [
             0.8888888888888888,
             "#fdca26"
            ],
            [
             1,
             "#f0f921"
            ]
           ],
           "sequentialminus": [
            [
             0,
             "#0d0887"
            ],
            [
             0.1111111111111111,
             "#46039f"
            ],
            [
             0.2222222222222222,
             "#7201a8"
            ],
            [
             0.3333333333333333,
             "#9c179e"
            ],
            [
             0.4444444444444444,
             "#bd3786"
            ],
            [
             0.5555555555555556,
             "#d8576b"
            ],
            [
             0.6666666666666666,
             "#ed7953"
            ],
            [
             0.7777777777777778,
             "#fb9f3a"
            ],
            [
             0.8888888888888888,
             "#fdca26"
            ],
            [
             1,
             "#f0f921"
            ]
           ]
          },
          "colorway": [
           "#636efa",
           "#EF553B",
           "#00cc96",
           "#ab63fa",
           "#FFA15A",
           "#19d3f3",
           "#FF6692",
           "#B6E880",
           "#FF97FF",
           "#FECB52"
          ],
          "font": {
           "color": "#2a3f5f"
          },
          "geo": {
           "bgcolor": "white",
           "lakecolor": "white",
           "landcolor": "#E5ECF6",
           "showlakes": true,
           "showland": true,
           "subunitcolor": "white"
          },
          "hoverlabel": {
           "align": "left"
          },
          "hovermode": "closest",
          "mapbox": {
           "style": "light"
          },
          "paper_bgcolor": "white",
          "plot_bgcolor": "#E5ECF6",
          "polar": {
           "angularaxis": {
            "gridcolor": "white",
            "linecolor": "white",
            "ticks": ""
           },
           "bgcolor": "#E5ECF6",
           "radialaxis": {
            "gridcolor": "white",
            "linecolor": "white",
            "ticks": ""
           }
          },
          "scene": {
           "xaxis": {
            "backgroundcolor": "#E5ECF6",
            "gridcolor": "white",
            "gridwidth": 2,
            "linecolor": "white",
            "showbackground": true,
            "ticks": "",
            "zerolinecolor": "white"
           },
           "yaxis": {
            "backgroundcolor": "#E5ECF6",
            "gridcolor": "white",
            "gridwidth": 2,
            "linecolor": "white",
            "showbackground": true,
            "ticks": "",
            "zerolinecolor": "white"
           },
           "zaxis": {
            "backgroundcolor": "#E5ECF6",
            "gridcolor": "white",
            "gridwidth": 2,
            "linecolor": "white",
            "showbackground": true,
            "ticks": "",
            "zerolinecolor": "white"
           }
          },
          "shapedefaults": {
           "line": {
            "color": "#2a3f5f"
           }
          },
          "ternary": {
           "aaxis": {
            "gridcolor": "white",
            "linecolor": "white",
            "ticks": ""
           },
           "baxis": {
            "gridcolor": "white",
            "linecolor": "white",
            "ticks": ""
           },
           "bgcolor": "#E5ECF6",
           "caxis": {
            "gridcolor": "white",
            "linecolor": "white",
            "ticks": ""
           }
          },
          "title": {
           "x": 0.05
          },
          "xaxis": {
           "automargin": true,
           "gridcolor": "white",
           "linecolor": "white",
           "ticks": "",
           "title": {
            "standoff": 15
           },
           "zerolinecolor": "white",
           "zerolinewidth": 2
          },
          "yaxis": {
           "automargin": true,
           "gridcolor": "white",
           "linecolor": "white",
           "ticks": "",
           "title": {
            "standoff": 15
           },
           "zerolinecolor": "white",
           "zerolinewidth": 2
          }
         }
        },
        "title": {
         "text": "Cluster Description"
        },
        "xaxis": {
         "anchor": "y",
         "domain": [
          0,
          1
         ],
         "title": {
          "text": "Variable"
         }
        },
        "yaxis": {
         "anchor": "x",
         "domain": [
          0,
          1
         ],
         "title": {
          "text": "Value"
         }
        }
       }
      }
     },
     "metadata": {},
     "output_type": "display_data"
    }
   ],
   "source": [
    "# Create a scatter plot with increased height\n",
    "fig = px.scatter(df_long, x='variable', y='value', color='Cluster', \n",
    "                 title='Cluster Description', labels={'variable': 'Variable', 'value': 'Value'}, \n",
    "                 height=600)  # Adjust the height as needed\n",
    "\n",
    "fig.show()"
   ]
  }
 ],
 "metadata": {
  "kernelspec": {
   "display_name": "base",
   "language": "python",
   "name": "python3"
  },
  "language_info": {
   "codemirror_mode": {
    "name": "ipython",
    "version": 3
   },
   "file_extension": ".py",
   "mimetype": "text/x-python",
   "name": "python",
   "nbconvert_exporter": "python",
   "pygments_lexer": "ipython3",
   "version": "3.11.7"
  }
 },
 "nbformat": 4,
 "nbformat_minor": 2
}
